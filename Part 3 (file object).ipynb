{
 "cells": [
  {
   "cell_type": "code",
   "execution_count": 6,
   "id": "4fa52dec",
   "metadata": {},
   "outputs": [],
   "source": [
    "# file objects (you can create file using python)"
   ]
  },
  {
   "cell_type": "code",
   "execution_count": 7,
   "id": "8eba82d1",
   "metadata": {},
   "outputs": [],
   "source": [
    "file1 = open('E:/PYTHON/Text_File.txt', 'w')"
   ]
  },
  {
   "cell_type": "code",
   "execution_count": 8,
   "id": "4a7ef5ee",
   "metadata": {},
   "outputs": [],
   "source": [
    "file1.write(\"Welcome ! \\n\")\n",
    "file1.write(\"This is the First Python text file. \\n\")\n",
    "file1.close()"
   ]
  },
  {
   "cell_type": "code",
   "execution_count": 9,
   "id": "dab03d9c",
   "metadata": {},
   "outputs": [
    {
     "name": "stdout",
     "output_type": "stream",
     "text": [
      "0b10100\n",
      "0o24\n",
      "0x14\n"
     ]
    }
   ],
   "source": [
    "a = 20\n",
    "b = bin(a)\n",
    "c = oct(a)\n",
    "d = hex(a)\n",
    "print(b)\n",
    "print(c)\n",
    "print(d)"
   ]
  },
  {
   "cell_type": "code",
   "execution_count": 12,
   "id": "e3fe7c24",
   "metadata": {},
   "outputs": [
    {
     "name": "stdout",
     "output_type": "stream",
     "text": [
      "2/3\n"
     ]
    }
   ],
   "source": [
    "# fraction Function\n",
    "\n",
    "from fractions import Fraction as F\n",
    "\n",
    "print(F(1,3)+F(1,3))"
   ]
  },
  {
   "cell_type": "code",
   "execution_count": 13,
   "id": "df3746ed",
   "metadata": {},
   "outputs": [
    {
     "name": "stdout",
     "output_type": "stream",
     "text": [
      "1/3\n"
     ]
    }
   ],
   "source": [
    "print(F(1,3)/1)"
   ]
  },
  {
   "cell_type": "code",
   "execution_count": 14,
   "id": "bf55d581",
   "metadata": {},
   "outputs": [
    {
     "name": "stdout",
     "output_type": "stream",
     "text": [
      "3\n"
     ]
    }
   ],
   "source": [
    "print(1/F(2,6))"
   ]
  },
  {
   "cell_type": "code",
   "execution_count": 15,
   "id": "3ea3e5f0",
   "metadata": {},
   "outputs": [
    {
     "name": "stdout",
     "output_type": "stream",
     "text": [
      "9.5\n"
     ]
    }
   ],
   "source": [
    "# absolute function (returns positive value)\n",
    "\n",
    "x = -9.5\n",
    "print(abs(x))"
   ]
  },
  {
   "cell_type": "code",
   "execution_count": null,
   "id": "5433686b",
   "metadata": {},
   "outputs": [],
   "source": []
  }
 ],
 "metadata": {
  "kernelspec": {
   "display_name": "Python 3 (ipykernel)",
   "language": "python",
   "name": "python3"
  },
  "language_info": {
   "codemirror_mode": {
    "name": "ipython",
    "version": 3
   },
   "file_extension": ".py",
   "mimetype": "text/x-python",
   "name": "python",
   "nbconvert_exporter": "python",
   "pygments_lexer": "ipython3",
   "version": "3.9.13"
  }
 },
 "nbformat": 4,
 "nbformat_minor": 5
}
