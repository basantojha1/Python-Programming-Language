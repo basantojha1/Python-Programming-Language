{
 "cells": [
  {
   "cell_type": "code",
   "execution_count": 3,
   "id": "bfc44420",
   "metadata": {},
   "outputs": [
    {
     "name": "stdout",
     "output_type": "stream",
     "text": [
      "Hello !\n",
      "Welcome To our Data Analyst Journey.\n",
      "Lets Begin !!\n"
     ]
    }
   ],
   "source": [
    "# Reading a .txt file from any place in PC. \n",
    "\n",
    "file = open('E:/PYTHON PROGRAMMING/bsnt.txt','r')\n",
    "print(file.read())\n",
    "file.close()"
   ]
  },
  {
   "cell_type": "code",
   "execution_count": 4,
   "id": "76c7286a",
   "metadata": {},
   "outputs": [
    {
     "name": "stdout",
     "output_type": "stream",
     "text": [
      "Hel\n"
     ]
    }
   ],
   "source": [
    "file = open('E:/PYTHON PROGRAMMING/bsnt.txt','r')\n",
    "print(file.read(3)) # Reading 3 charrecters from the file\n",
    "file.close()"
   ]
  },
  {
   "cell_type": "code",
   "execution_count": 6,
   "id": "5c924c40",
   "metadata": {},
   "outputs": [
    {
     "name": "stdout",
     "output_type": "stream",
     "text": [
      "Hello !\n",
      "\n"
     ]
    }
   ],
   "source": [
    "file = open('E:/PYTHON PROGRAMMING/bsnt.txt','r')\n",
    "print(file.readline()) # Reading a file content line by line.\n",
    "file.close()"
   ]
  },
  {
   "cell_type": "code",
   "execution_count": 7,
   "id": "5b5bfeee",
   "metadata": {},
   "outputs": [
    {
     "name": "stdout",
     "output_type": "stream",
     "text": [
      "['Hello !\\n', 'Welcome To our Data Analyst Journey.\\n', 'Lets Begin !!']\n"
     ]
    }
   ],
   "source": [
    "file = open('E:/PYTHON PROGRAMMING/bsnt.txt','r')\n",
    "print(file.readlines()) # It will print the lines in an array\n",
    "file.close()"
   ]
  },
  {
   "cell_type": "code",
   "execution_count": 18,
   "id": "f25deff8",
   "metadata": {},
   "outputs": [],
   "source": [
    "file = open('E:/PYTHON PROGRAMMING/bsnt.txt','w') # Writing\n",
    "file.write('Sunday ')\n",
    "file.write('Monday')\n",
    "file.close()"
   ]
  },
  {
   "cell_type": "code",
   "execution_count": 19,
   "id": "bf670068",
   "metadata": {},
   "outputs": [
    {
     "name": "stdout",
     "output_type": "stream",
     "text": [
      "Sunday Monday\n"
     ]
    }
   ],
   "source": [
    "file = open('E:/PYTHON PROGRAMMING/bsnt.txt','r')\n",
    "print(file.read())\n",
    "file.close()"
   ]
  },
  {
   "cell_type": "code",
   "execution_count": 21,
   "id": "3f9a18cd",
   "metadata": {},
   "outputs": [],
   "source": [
    "file = open('E:/PYTHON PROGRAMMING/hero.txt','x')\n",
    "file.write('Hello ! This is a Hero File.')\n",
    "file.close()"
   ]
  },
  {
   "cell_type": "code",
   "execution_count": 23,
   "id": "c5b359bd",
   "metadata": {},
   "outputs": [
    {
     "name": "stdout",
     "output_type": "stream",
     "text": [
      "Hello ! This is a Hero File.\n"
     ]
    }
   ],
   "source": [
    "file = open('E:/PYTHON PROGRAMMING/hero.txt','r')\n",
    "print(file.read())\n",
    "file.close()"
   ]
  },
  {
   "cell_type": "code",
   "execution_count": 25,
   "id": "ec73d07d",
   "metadata": {},
   "outputs": [],
   "source": [
    "# To Delete a File\n",
    "import os\n",
    "os.remove('E:/PYTHON PROGRAMMING/bsnt.txt')"
   ]
  },
  {
   "cell_type": "code",
   "execution_count": 26,
   "id": "c66f7ece",
   "metadata": {},
   "outputs": [
    {
     "ename": "FileNotFoundError",
     "evalue": "[Errno 2] No such file or directory: 'E:/PYTHON PROGRAMMING/bsnt.txt'",
     "output_type": "error",
     "traceback": [
      "\u001b[1;31m---------------------------------------------------------------------------\u001b[0m",
      "\u001b[1;31mFileNotFoundError\u001b[0m                         Traceback (most recent call last)",
      "\u001b[1;32m~\\AppData\\Local\\Temp\\ipykernel_5616\\1685391309.py\u001b[0m in \u001b[0;36m<module>\u001b[1;34m\u001b[0m\n\u001b[1;32m----> 1\u001b[1;33m \u001b[0mfile\u001b[0m \u001b[1;33m=\u001b[0m \u001b[0mopen\u001b[0m\u001b[1;33m(\u001b[0m\u001b[1;34m'E:/PYTHON PROGRAMMING/bsnt.txt'\u001b[0m\u001b[1;33m,\u001b[0m\u001b[1;34m'r'\u001b[0m\u001b[1;33m)\u001b[0m\u001b[1;33m\u001b[0m\u001b[1;33m\u001b[0m\u001b[0m\n\u001b[0m\u001b[0;32m      2\u001b[0m \u001b[0mprint\u001b[0m\u001b[1;33m(\u001b[0m\u001b[0mfile\u001b[0m\u001b[1;33m.\u001b[0m\u001b[0mread\u001b[0m\u001b[1;33m(\u001b[0m\u001b[1;33m)\u001b[0m\u001b[1;33m)\u001b[0m\u001b[1;33m\u001b[0m\u001b[1;33m\u001b[0m\u001b[0m\n\u001b[0;32m      3\u001b[0m \u001b[0mfile\u001b[0m\u001b[1;33m.\u001b[0m\u001b[0mclose\u001b[0m\u001b[1;33m(\u001b[0m\u001b[1;33m)\u001b[0m\u001b[1;33m\u001b[0m\u001b[1;33m\u001b[0m\u001b[0m\n",
      "\u001b[1;31mFileNotFoundError\u001b[0m: [Errno 2] No such file or directory: 'E:/PYTHON PROGRAMMING/bsnt.txt'"
     ]
    }
   ],
   "source": [
    "file = open('E:/PYTHON PROGRAMMING/bsnt.txt','r')\n",
    "print(file.read())\n",
    "file.close()"
   ]
  },
  {
   "cell_type": "code",
   "execution_count": 30,
   "id": "044a4fbc",
   "metadata": {},
   "outputs": [
    {
     "name": "stdout",
     "output_type": "stream",
     "text": [
      "['I am new here \\n', 'can you guide me out of here\\n', 'I am here to learn python myann']\n"
     ]
    }
   ],
   "source": [
    "import os\n",
    "file = open('E:/PYTHON PROGRAMMING/bsnt.txt','r')\n",
    "for i in file:\n",
    "    print(file.readlines())\n",
    "file.close()"
   ]
  },
  {
   "cell_type": "code",
   "execution_count": null,
   "id": "a407ae58",
   "metadata": {},
   "outputs": [],
   "source": []
  }
 ],
 "metadata": {
  "kernelspec": {
   "display_name": "Python 3 (ipykernel)",
   "language": "python",
   "name": "python3"
  },
  "language_info": {
   "codemirror_mode": {
    "name": "ipython",
    "version": 3
   },
   "file_extension": ".py",
   "mimetype": "text/x-python",
   "name": "python",
   "nbconvert_exporter": "python",
   "pygments_lexer": "ipython3",
   "version": "3.9.13"
  }
 },
 "nbformat": 4,
 "nbformat_minor": 5
}
