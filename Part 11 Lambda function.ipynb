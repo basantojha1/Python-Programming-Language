{
 "cells": [
  {
   "cell_type": "code",
   "execution_count": 1,
   "id": "d9b4bf5a",
   "metadata": {},
   "outputs": [
    {
     "data": {
      "text/plain": [
       "3"
      ]
     },
     "execution_count": 1,
     "metadata": {},
     "output_type": "execute_result"
    }
   ],
   "source": [
    "add = lambda a,b: a+b\n",
    "add(1,2)"
   ]
  },
  {
   "cell_type": "code",
   "execution_count": 2,
   "id": "6fd7f965",
   "metadata": {},
   "outputs": [
    {
     "name": "stdout",
     "output_type": "stream",
     "text": [
      "22\n"
     ]
    }
   ],
   "source": [
    "add = lambda x: x+ 12\n",
    "print(add(10))"
   ]
  },
  {
   "cell_type": "code",
   "execution_count": 3,
   "id": "d1c474d5",
   "metadata": {},
   "outputs": [
    {
     "data": {
      "text/plain": [
       "10"
      ]
     },
     "execution_count": 3,
     "metadata": {},
     "output_type": "execute_result"
    }
   ],
   "source": [
    "(lambda a,b: a * b)(2,5)"
   ]
  },
  {
   "cell_type": "code",
   "execution_count": 4,
   "id": "b48a02b5",
   "metadata": {},
   "outputs": [
    {
     "name": "stdout",
     "output_type": "stream",
     "text": [
      "6\n"
     ]
    }
   ],
   "source": [
    "product = lambda x,y,z: x*y*z\n",
    "print(product(1,2,3))"
   ]
  },
  {
   "cell_type": "code",
   "execution_count": 5,
   "id": "e3821730",
   "metadata": {},
   "outputs": [
    {
     "name": "stdout",
     "output_type": "stream",
     "text": [
      "60\n"
     ]
    }
   ],
   "source": [
    "num = lambda x,y=10,z=20: x + y + z\n",
    "print(num(30))"
   ]
  },
  {
   "cell_type": "code",
   "execution_count": 6,
   "id": "80503857",
   "metadata": {},
   "outputs": [
    {
     "name": "stdout",
     "output_type": "stream",
     "text": [
      "100\n"
     ]
    }
   ],
   "source": [
    "addition = lambda *args: sum(args)\n",
    "print(addition(10,20,30,40))"
   ]
  },
  {
   "cell_type": "code",
   "execution_count": 7,
   "id": "8fabec2b",
   "metadata": {},
   "outputs": [
    {
     "data": {
      "text/plain": [
       "420"
      ]
     },
     "execution_count": 7,
     "metadata": {},
     "output_type": "execute_result"
    }
   ],
   "source": [
    "# Higher order function\n",
    "\n",
    "hof = lambda x, fun: x + fun(x)\n",
    "hof(20, lambda x : x*x)"
   ]
  },
  {
   "cell_type": "code",
   "execution_count": 8,
   "id": "e20c6886",
   "metadata": {},
   "outputs": [
    {
     "data": {
      "text/plain": [
       "'even'"
      ]
     },
     "execution_count": 8,
     "metadata": {},
     "output_type": "execute_result"
    }
   ],
   "source": [
    "(lambda x : (x%2 and 'odd' or 'even'))(30)"
   ]
  },
  {
   "cell_type": "code",
   "execution_count": 12,
   "id": "9ca9128c",
   "metadata": {},
   "outputs": [
    {
     "name": "stdout",
     "output_type": "stream",
     "text": [
      "False\n"
     ]
    }
   ],
   "source": [
    "# To find substring inside a string\n",
    "\n",
    "subString = lambda string : string in 'Hello World ! I am Here.'\n",
    "print(subString('am'))"
   ]
  },
  {
   "cell_type": "code",
   "execution_count": 15,
   "id": "44937d29",
   "metadata": {},
   "outputs": [
    {
     "name": "stdout",
     "output_type": "stream",
     "text": [
      "[30, 40, 25]\n"
     ]
    }
   ],
   "source": [
    "# Using filter function with lambda\n",
    "\n",
    "num = [10,20,30,40,25]\n",
    "greater = list(filter(lambda num: num >20, num))\n",
    "print(greater)"
   ]
  },
  {
   "cell_type": "code",
   "execution_count": 16,
   "id": "f9bc27be",
   "metadata": {},
   "outputs": [
    {
     "name": "stdout",
     "output_type": "stream",
     "text": [
      "[20, 40, 60, 80, 50]\n"
     ]
    }
   ],
   "source": [
    "# Every element in the list is multiplied by 2\n",
    "\n",
    "num1 = [10,20,30,40,25]\n",
    "\n",
    "d = list(map(lambda x: x*2, num1))\n",
    "print(d)"
   ]
  },
  {
   "cell_type": "code",
   "execution_count": 21,
   "id": "a8af5e6f",
   "metadata": {},
   "outputs": [
    {
     "name": "stdout",
     "output_type": "stream",
     "text": [
      "[1000, 8000, 27000, 64000, 15625]\n"
     ]
    }
   ],
   "source": [
    "power = list(map(lambda x: pow(x,3), num1))\n",
    "print(power)"
   ]
  },
  {
   "cell_type": "code",
   "execution_count": 23,
   "id": "48bf78ee",
   "metadata": {},
   "outputs": [
    {
     "name": "stdout",
     "output_type": "stream",
     "text": [
      "38\n"
     ]
    }
   ],
   "source": [
    "# reduce\n",
    "\n",
    "from functools import reduce\n",
    "\n",
    "lst = [2,4,6,8,3,6,9]\n",
    "sum = reduce((lambda x,y : x+y),lst)\n",
    "print(sum)"
   ]
  },
  {
   "cell_type": "code",
   "execution_count": 26,
   "id": "c9582e79",
   "metadata": {},
   "outputs": [
    {
     "data": {
      "text/plain": [
       "18"
      ]
     },
     "execution_count": 26,
     "metadata": {},
     "output_type": "execute_result"
    }
   ],
   "source": [
    "def quadratic(a,b,c):\n",
    "    return lambda x: a*x*2 +b*x +c\n",
    "f = quadratic(2,3,4)\n",
    "f(2)"
   ]
  },
  {
   "cell_type": "code",
   "execution_count": null,
   "id": "aa8bedcc",
   "metadata": {},
   "outputs": [],
   "source": []
  }
 ],
 "metadata": {
  "kernelspec": {
   "display_name": "Python 3 (ipykernel)",
   "language": "python",
   "name": "python3"
  },
  "language_info": {
   "codemirror_mode": {
    "name": "ipython",
    "version": 3
   },
   "file_extension": ".py",
   "mimetype": "text/x-python",
   "name": "python",
   "nbconvert_exporter": "python",
   "pygments_lexer": "ipython3",
   "version": "3.9.13"
  }
 },
 "nbformat": 4,
 "nbformat_minor": 5
}
