{
 "cells": [
  {
   "cell_type": "code",
   "execution_count": 1,
   "id": "271b6a4d",
   "metadata": {},
   "outputs": [
    {
     "name": "stdout",
     "output_type": "stream",
     "text": [
      "2\n",
      "3\n",
      "5\n",
      "7\n",
      "9\n",
      "10\n"
     ]
    }
   ],
   "source": [
    "# Sorted the list in ascending order\n",
    "\n",
    "num = [2,5,7,3,9,10]\n",
    "for i in sorted(num):\n",
    "    print(i)"
   ]
  },
  {
   "cell_type": "code",
   "execution_count": 2,
   "id": "7d509848",
   "metadata": {},
   "outputs": [
    {
     "name": "stdout",
     "output_type": "stream",
     "text": [
      "10\n",
      "9\n",
      "7\n",
      "5\n",
      "3\n",
      "2\n"
     ]
    }
   ],
   "source": [
    "# Sorted the list in descending order\n",
    "\n",
    "num = [2,5,7,3,9,10]\n",
    "for i in sorted(num, reverse = True):\n",
    "    print(i)"
   ]
  },
  {
   "cell_type": "code",
   "execution_count": 3,
   "id": "1dc4a23c",
   "metadata": {},
   "outputs": [
    {
     "name": "stdout",
     "output_type": "stream",
     "text": [
      "Shyam\n",
      "Ronaldo\n",
      "Ram\n",
      "Hari\n"
     ]
    }
   ],
   "source": [
    "players = ['Ram','Shyam','Hari','Ronaldo']\n",
    "for i in sorted(players, reverse = True):\n",
    "    print(i)"
   ]
  },
  {
   "cell_type": "code",
   "execution_count": 6,
   "id": "c589ea72",
   "metadata": {},
   "outputs": [
    {
     "name": "stdout",
     "output_type": "stream",
     "text": [
      "(4, 'd')\n",
      "(3, 'c')\n",
      "(2, 'b')\n",
      "(1, 'a')\n"
     ]
    }
   ],
   "source": [
    "#sorted a dictionary\n",
    "\n",
    "dict1 = {1:\"a\",2:\"b\",3:\"c\",4:\"d\"}\n",
    "for i in sorted(dict1.items(), reverse =True):\n",
    "    print(i)"
   ]
  },
  {
   "cell_type": "code",
   "execution_count": 7,
   "id": "a2d0d2b6",
   "metadata": {},
   "outputs": [
    {
     "name": "stdout",
     "output_type": "stream",
     "text": [
      "4\n",
      "3\n",
      "2\n",
      "1\n"
     ]
    }
   ],
   "source": [
    "dict1 = {1:\"a\",2:\"b\",3:\"c\",4:\"d\"}\n",
    "for i in sorted(dict1.keys(), reverse =True):\n",
    "    print(i)"
   ]
  },
  {
   "cell_type": "code",
   "execution_count": 8,
   "id": "386d43ff",
   "metadata": {},
   "outputs": [
    {
     "name": "stdout",
     "output_type": "stream",
     "text": [
      "d\n",
      "c\n",
      "b\n",
      "a\n"
     ]
    }
   ],
   "source": [
    "dict1 = {1:\"a\",2:\"b\",3:\"c\",4:\"d\"}\n",
    "for i in sorted(dict1.values(), reverse =True):\n",
    "    print(i)"
   ]
  },
  {
   "cell_type": "code",
   "execution_count": 10,
   "id": "5f2b4f01",
   "metadata": {},
   "outputs": [
    {
     "name": "stdout",
     "output_type": "stream",
     "text": [
      "sudhama\n",
      "gita\n",
      "sita\n",
      "laxman\n",
      "ram\n"
     ]
    }
   ],
   "source": [
    "# Reversing a list\n",
    "\n",
    "name = ['ram','laxman','sita','gita','sudhama']\n",
    "for i in reversed(name):\n",
    "    print(i)"
   ]
  },
  {
   "cell_type": "code",
   "execution_count": 14,
   "id": "e1208fc9",
   "metadata": {},
   "outputs": [
    {
     "name": "stdout",
     "output_type": "stream",
     "text": [
      "{'name': 'Ram', 'age': 20}\n",
      "{'name': 'Gita', 'age': 22}\n",
      "{'name': 'Hari', 'age': 30}\n"
     ]
    }
   ],
   "source": [
    "# Using lambda function to filter\n",
    "\n",
    "animals = [{\"name\": \"Ram\", \"age\":20}, {\"name\": \"Shyam\", \"age\":19}, {\"name\": \"Gita\", \"age\":22}, {\"name\": \"Sita\", \"age\":25}, {\"name\": \"Hari\", \"age\":30}]\n",
    "for animals in filter(lambda i: i[\"age\"]%2 == 0, animals):\n",
    "    print(animals)"
   ]
  },
  {
   "cell_type": "code",
   "execution_count": 22,
   "id": "fb7471c4",
   "metadata": {},
   "outputs": [
    {
     "name": "stdout",
     "output_type": "stream",
     "text": [
      "USA\n",
      "Bangladesh\n",
      "Iran\n",
      "India\n",
      "Nepal\n"
     ]
    }
   ],
   "source": [
    "# Removes all the elements from the list\n",
    "\n",
    "country = ['Nepal','India','Iran','Bangladesh','USA']\n",
    "while country:\n",
    "    print(country.pop(-1))"
   ]
  },
  {
   "cell_type": "code",
   "execution_count": 23,
   "id": "e00c4597",
   "metadata": {},
   "outputs": [
    {
     "data": {
      "text/plain": [
       "[]"
      ]
     },
     "execution_count": 23,
     "metadata": {},
     "output_type": "execute_result"
    }
   ],
   "source": [
    "country"
   ]
  },
  {
   "cell_type": "code",
   "execution_count": 25,
   "id": "d8826146",
   "metadata": {},
   "outputs": [
    {
     "name": "stdout",
     "output_type": "stream",
     "text": [
      "9\n",
      "8\n",
      "7\n",
      "6\n",
      "5\n",
      "4\n",
      "3\n",
      "2\n",
      "1\n",
      "0\n"
     ]
    }
   ],
   "source": [
    "n = 10\n",
    "while n >0: n -=1 ; print(n)"
   ]
  },
  {
   "cell_type": "code",
   "execution_count": 26,
   "id": "9388513c",
   "metadata": {},
   "outputs": [],
   "source": [
    "# Using enumurate() function you can give indices to the items in your list."
   ]
  },
  {
   "cell_type": "code",
   "execution_count": 29,
   "id": "a08838e9",
   "metadata": {},
   "outputs": [
    {
     "name": "stdout",
     "output_type": "stream",
     "text": [
      "(0, 'H')\n",
      "(1, 'e')\n",
      "(2, 'r')\n",
      "(3, 'o')\n"
     ]
    }
   ],
   "source": [
    "name = 'Hero'\n",
    "for i in enumerate(name):\n",
    "    print(i)"
   ]
  },
  {
   "cell_type": "code",
   "execution_count": 28,
   "id": "0a002a87",
   "metadata": {},
   "outputs": [
    {
     "name": "stdout",
     "output_type": "stream",
     "text": [
      "(10, 'H')\n",
      "(11, 'e')\n",
      "(12, 'r')\n",
      "(13, 'o')\n",
      "(14, 'p')\n",
      "(15, 'a')\n",
      "(16, 'n')\n",
      "(17, 't')\n",
      "(18, 'i')\n"
     ]
    }
   ],
   "source": [
    "#using start parameter in enumerate function\n",
    "\n",
    "name = 'Heropanti'\n",
    "for i in enumerate(name, start = 10):\n",
    "    print(i)"
   ]
  },
  {
   "cell_type": "code",
   "execution_count": 30,
   "id": "79aa99d2",
   "metadata": {},
   "outputs": [
    {
     "name": "stdout",
     "output_type": "stream",
     "text": [
      "('Apple', 'Ram')\n",
      "('Ball', 'Shyam')\n",
      "('Cat', 'Hari')\n",
      "('Dog', 'Gita')\n"
     ]
    }
   ],
   "source": [
    "# zip function\n",
    "\n",
    "f1 = ['Apple','Ball','Cat','Dog']\n",
    "f2 = ['Ram','Shyam','Hari','Gita']\n",
    "for i in zip(f1,f2):\n",
    "    print(i)"
   ]
  },
  {
   "cell_type": "code",
   "execution_count": 34,
   "id": "7d27c8e7",
   "metadata": {},
   "outputs": [
    {
     "name": "stdout",
     "output_type": "stream",
     "text": [
      "('Apple', 'Ram')\n",
      "('Ball', 'Shyam')\n",
      "('Cat', 'Hari')\n",
      "('Dog', 'Gita')\n",
      "('Elephant', None)\n",
      "('Fog', None)\n",
      "('Goat', None)\n"
     ]
    }
   ],
   "source": [
    "#from itertools import zip_longest\n",
    "\n",
    "f1 = ['Apple','Ball','Cat','Dog','Elephant','Fog','Goat']\n",
    "f2 = ['Ram','Shyam','Hari','Gita']\n",
    "for i in zip_longest(f1, f2, fillvalue='NA'):\n",
    "    print(i)"
   ]
  },
  {
   "cell_type": "code",
   "execution_count": null,
   "id": "05b38593",
   "metadata": {},
   "outputs": [],
   "source": []
  }
 ],
 "metadata": {
  "kernelspec": {
   "display_name": "Python 3 (ipykernel)",
   "language": "python",
   "name": "python3"
  },
  "language_info": {
   "codemirror_mode": {
    "name": "ipython",
    "version": 3
   },
   "file_extension": ".py",
   "mimetype": "text/x-python",
   "name": "python",
   "nbconvert_exporter": "python",
   "pygments_lexer": "ipython3",
   "version": "3.9.13"
  }
 },
 "nbformat": 4,
 "nbformat_minor": 5
}
