{
 "cells": [
  {
   "cell_type": "code",
   "execution_count": 9,
   "id": "49a66fc3",
   "metadata": {},
   "outputs": [
    {
     "name": "stdout",
     "output_type": "stream",
     "text": [
      "1\n",
      "2\n",
      "3\n",
      "4\n",
      "6\n",
      "7\n",
      "8\n",
      "9\n",
      "10\n"
     ]
    }
   ],
   "source": [
    "i = 0\n",
    "while i < 10:\n",
    "    i = i + 1\n",
    "    if i == 5:\n",
    "        continue\n",
    "    print(i)"
   ]
  },
  {
   "cell_type": "code",
   "execution_count": 11,
   "id": "91eef850",
   "metadata": {},
   "outputs": [
    {
     "name": "stdout",
     "output_type": "stream",
     "text": [
      "1\n",
      "2\n",
      "3\n",
      "4\n",
      "5\n",
      "6\n",
      "7\n",
      "8\n",
      "9\n",
      "10\n",
      "10 is not less than 10\n"
     ]
    }
   ],
   "source": [
    "i = 0\n",
    "while i < 10:\n",
    "    i +=1\n",
    "    print(i)\n",
    "else:\n",
    "    print(i, \"is not less than 10\")"
   ]
  },
  {
   "cell_type": "code",
   "execution_count": 12,
   "id": "1e2da6b2",
   "metadata": {},
   "outputs": [
    {
     "name": "stdout",
     "output_type": "stream",
     "text": [
      "5\n",
      "4\n",
      "3\n",
      "2\n",
      "1\n",
      "No more elements in the list.\n"
     ]
    }
   ],
   "source": [
    "a = [1,2,3,4,5]\n",
    "while a:\n",
    "    print(a.pop())\n",
    "else:\n",
    "    print(\"No more elements in the list.\")"
   ]
  },
  {
   "cell_type": "code",
   "execution_count": null,
   "id": "aa038641",
   "metadata": {},
   "outputs": [],
   "source": [
    "print(\"Hello\")"
   ]
  },
  {
   "cell_type": "code",
   "execution_count": null,
   "id": "b5e2561c",
   "metadata": {},
   "outputs": [],
   "source": [
    "num = 0\n",
    "count = 0\n",
    "summ = 0\n",
    "\n",
    "while num >=0:\n",
    "    num = int(input(\"Enter any number:\"))\n",
    "    if num >=0:\n",
    "        summ += num\n",
    "        count += 1\n",
    "avg = summ/count\n",
    "print(\"The average of the sum of: \", sum, \"is: \", avg)"
   ]
  }
 ],
 "metadata": {
  "kernelspec": {
   "display_name": "Python 3 (ipykernel)",
   "language": "python",
   "name": "python3"
  },
  "language_info": {
   "codemirror_mode": {
    "name": "ipython",
    "version": 3
   },
   "file_extension": ".py",
   "mimetype": "text/x-python",
   "name": "python",
   "nbconvert_exporter": "python",
   "pygments_lexer": "ipython3",
   "version": "3.9.13"
  }
 },
 "nbformat": 4,
 "nbformat_minor": 5
}
