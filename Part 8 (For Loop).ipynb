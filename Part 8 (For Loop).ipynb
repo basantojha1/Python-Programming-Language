{
 "cells": [
  {
   "cell_type": "code",
   "execution_count": 1,
   "id": "6fcd6040",
   "metadata": {},
   "outputs": [
    {
     "name": "stdout",
     "output_type": "stream",
     "text": [
      "A\n",
      "e\n",
      "r\n",
      "o\n",
      "p\n",
      "l\n",
      "a\n",
      "n\n",
      "e\n"
     ]
    }
   ],
   "source": [
    "# For Loop\n",
    "name = \"Aeroplane\"\n",
    "for i in name:\n",
    "    print(i)"
   ]
  },
  {
   "cell_type": "code",
   "execution_count": 6,
   "id": "655102db",
   "metadata": {},
   "outputs": [
    {
     "name": "stdout",
     "output_type": "stream",
     "text": [
      "A* e* r* o* p* l* a* n* e* "
     ]
    }
   ],
   "source": [
    "for i in name:\n",
    "    print(i, end=\"* \") # end parameter will have a value of *"
   ]
  },
  {
   "cell_type": "code",
   "execution_count": 8,
   "id": "ca9d5be4",
   "metadata": {},
   "outputs": [
    {
     "name": "stdout",
     "output_type": "stream",
     "text": [
      "Apple\n",
      "Ball\n",
      "Cat\n",
      "Dog\n",
      "Elephant\n"
     ]
    }
   ],
   "source": [
    "# Using loop in a list\n",
    "\n",
    "list1 = ['Apple', 'Ball', 'Cat', 'Dog', 'Elephant']\n",
    "for items in list1:\n",
    "    print(items)"
   ]
  },
  {
   "cell_type": "code",
   "execution_count": 10,
   "id": "48a16f66",
   "metadata": {},
   "outputs": [
    {
     "name": "stdout",
     "output_type": "stream",
     "text": [
      "sum is:  150\n",
      "average is:  30.0\n"
     ]
    }
   ],
   "source": [
    "# Calculating sum and average of a number\n",
    "num = [10,20,30,40,50]\n",
    "sum = 0\n",
    "for i in num:\n",
    "    sum += i\n",
    "print(\"sum is: \", sum)\n",
    "print(\"average is: \", sum/len(num))"
   ]
  },
  {
   "cell_type": "code",
   "execution_count": 14,
   "id": "a6942778",
   "metadata": {},
   "outputs": [
    {
     "name": "stdout",
     "output_type": "stream",
     "text": [
      "1\n",
      "2\n",
      "3\n",
      "4\n",
      "5\n",
      "6\n",
      "7\n",
      "8\n",
      "9\n",
      "The total sum of the range is  45\n"
     ]
    }
   ],
   "source": [
    "# range\n",
    "sum = 0\n",
    "for i in range(1,10):\n",
    "    print (i)\n",
    "    sum +=i\n",
    "print(\"The total sum of the range is \",sum)"
   ]
  },
  {
   "cell_type": "code",
   "execution_count": 15,
   "id": "d8543759",
   "metadata": {},
   "outputs": [
    {
     "name": "stdout",
     "output_type": "stream",
     "text": [
      "1\n",
      "4\n",
      "7\n",
      "10\n",
      "13\n",
      "16\n",
      "19\n"
     ]
    }
   ],
   "source": [
    "# range stepping\n",
    "\n",
    "for i in range (1,20,3):\n",
    "    print(i)"
   ]
  },
  {
   "cell_type": "code",
   "execution_count": 16,
   "id": "c4893b32",
   "metadata": {},
   "outputs": [
    {
     "name": "stdout",
     "output_type": "stream",
     "text": [
      "Enter any number: 10\n",
      "10 * 1 = 10\n",
      "10 * 2 = 20\n",
      "10 * 3 = 30\n",
      "10 * 4 = 40\n",
      "10 * 5 = 50\n",
      "10 * 6 = 60\n",
      "10 * 7 = 70\n",
      "10 * 8 = 80\n",
      "10 * 9 = 90\n",
      "10 * 10 = 100\n"
     ]
    }
   ],
   "source": [
    "# Table of any number\n",
    "\n",
    "n = int(input(\"Enter any number: \"))\n",
    "\n",
    "for i in range(1,11):\n",
    "    multi = n*i\n",
    "    print(n, \"*\", i, \"=\", multi)"
   ]
  },
  {
   "cell_type": "code",
   "execution_count": 19,
   "id": "1fbcf128",
   "metadata": {},
   "outputs": [
    {
     "name": "stdout",
     "output_type": "stream",
     "text": [
      "Hello one\n",
      "Hello two\n",
      "Hello three\n",
      "Hello four\n",
      "Hello five\n"
     ]
    }
   ],
   "source": [
    "lst = ['one','two','three','four','five']\n",
    "for i in range (len(lst)):\n",
    "    print(\"Hello\", lst[i])"
   ]
  },
  {
   "cell_type": "code",
   "execution_count": 20,
   "id": "d10db727",
   "metadata": {},
   "outputs": [
    {
     "name": "stdout",
     "output_type": "stream",
     "text": [
      "all letters of ram will be displayed\n",
      "r\n",
      "a\n",
      "m\n",
      "all letters of shyam will be displayed\n",
      "s\n",
      "h\n",
      "y\n",
      "a\n",
      "m\n",
      "all letters of hari will be displayed\n",
      "h\n",
      "a\n",
      "r\n",
      "i\n"
     ]
    }
   ],
   "source": [
    "#Nested for loop\n",
    "\n",
    "name = ['ram','shyam','hari']\n",
    "for i in name:\n",
    "    print('all letters of',i,'will be displayed')\n",
    "    for letter in i:\n",
    "        print(letter)"
   ]
  },
  {
   "cell_type": "code",
   "execution_count": 21,
   "id": "8a41cc6b",
   "metadata": {},
   "outputs": [
    {
     "name": "stdout",
     "output_type": "stream",
     "text": [
      "20\n"
     ]
    }
   ],
   "source": [
    "# For loop in dictionaries\n",
    "\n",
    "playerName = 'Ronaldo'\n",
    "dict1 = {'Ronaldo':20, 'Messi':15, 'Nemar':100}\n",
    "\n",
    "for player in dict1:\n",
    "    if player == playerName:\n",
    "        print(dict1[player])\n",
    "        break\n",
    "    else:\n",
    "        print('No player with that name found.')"
   ]
  },
  {
   "cell_type": "code",
   "execution_count": null,
   "id": "227ab8e8",
   "metadata": {},
   "outputs": [],
   "source": []
  }
 ],
 "metadata": {
  "kernelspec": {
   "display_name": "Python 3 (ipykernel)",
   "language": "python",
   "name": "python3"
  },
  "language_info": {
   "codemirror_mode": {
    "name": "ipython",
    "version": 3
   },
   "file_extension": ".py",
   "mimetype": "text/x-python",
   "name": "python",
   "nbconvert_exporter": "python",
   "pygments_lexer": "ipython3",
   "version": "3.9.13"
  }
 },
 "nbformat": 4,
 "nbformat_minor": 5
}
