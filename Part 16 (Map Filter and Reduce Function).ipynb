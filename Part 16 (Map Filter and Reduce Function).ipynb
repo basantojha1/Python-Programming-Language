{
 "cells": [
  {
   "cell_type": "code",
   "execution_count": 12,
   "id": "08021419",
   "metadata": {},
   "outputs": [
    {
     "name": "stdout",
     "output_type": "stream",
     "text": [
      "[8, 12, 16, 20]\n"
     ]
    }
   ],
   "source": [
    "# Map\n",
    "\n",
    "def add(a):\n",
    "    return a + a\n",
    "number = (4,6,8,10)\n",
    "\n",
    "out = map(add, number)\n",
    "add = list(out)\n",
    "print(add)"
   ]
  },
  {
   "cell_type": "code",
   "execution_count": 13,
   "id": "d9d4b178",
   "metadata": {},
   "outputs": [
    {
     "name": "stdout",
     "output_type": "stream",
     "text": [
      "[4, 16, 36, 64, 100]\n"
     ]
    }
   ],
   "source": [
    "def multi(a):\n",
    "    return a*a\n",
    "list1 = [2,4,6,8,10]\n",
    "\n",
    "output = map(multi, list1)\n",
    "multipliedList = list(output)\n",
    "print(multipliedList)"
   ]
  },
  {
   "cell_type": "code",
   "execution_count": 16,
   "id": "7713cb54",
   "metadata": {},
   "outputs": [
    {
     "name": "stdout",
     "output_type": "stream",
     "text": [
      "[9, 25, 49, 81]\n"
     ]
    }
   ],
   "source": [
    "# Map using Lambda function\n",
    "\n",
    "list1 = [3,5,7,9]\n",
    "output = map(lambda x: x*x, list1)\n",
    "multi = list(output)\n",
    "print(multi)"
   ]
  },
  {
   "cell_type": "code",
   "execution_count": 18,
   "id": "e1ecea74",
   "metadata": {},
   "outputs": [
    {
     "name": "stdout",
     "output_type": "stream",
     "text": [
      "['APPLE', 'BALL', 'CAT', 'DOLL']\n"
     ]
    }
   ],
   "source": [
    "mapObj = map(str.upper,['Apple', 'Ball', 'Cat', 'Doll']) # map (executing operation/function, list)\n",
    "output1 = list(mapObj)\n",
    "print(output1)"
   ]
  },
  {
   "cell_type": "code",
   "execution_count": 19,
   "id": "57f51f01",
   "metadata": {},
   "outputs": [
    {
     "name": "stdout",
     "output_type": "stream",
     "text": [
      "[6, 7, 8]\n"
     ]
    }
   ],
   "source": [
    "# Filter function\n",
    "\n",
    "def fil(a):\n",
    "    if a>5:\n",
    "        return a\n",
    "output = filter(fil, [1,2,3,4,5,6,7,8])\n",
    "print(list(output))"
   ]
  },
  {
   "cell_type": "code",
   "execution_count": 20,
   "id": "f3147594",
   "metadata": {},
   "outputs": [
    {
     "name": "stdout",
     "output_type": "stream",
     "text": [
      "[6, 67, 21]\n"
     ]
    }
   ],
   "source": [
    "out = filter(lambda x: (x>5),[6,2,67,21,1,3])\n",
    "print(list(out))"
   ]
  },
  {
   "cell_type": "code",
   "execution_count": 21,
   "id": "f3fc74e6",
   "metadata": {},
   "outputs": [
    {
     "name": "stdout",
     "output_type": "stream",
     "text": [
      "['ball', 'bat', 'robe']\n"
     ]
    }
   ],
   "source": [
    "# string filter\n",
    "\n",
    "def string(a):\n",
    "    return 'b' in a\n",
    "\n",
    "obj = filter(string, ['apple', 'ball', 'cat', 'bat', 'robe'])\n",
    "print(list(obj))\n"
   ]
  },
  {
   "cell_type": "code",
   "execution_count": 22,
   "id": "71f61d83",
   "metadata": {},
   "outputs": [
    {
     "name": "stdout",
     "output_type": "stream",
     "text": [
      "['apple', 'ball', 'cat', 'bat']\n"
     ]
    }
   ],
   "source": [
    "obj = filter(lambda x: 'a' in x, ['apple', 'ball', 'cat', 'bat', 'robe'])\n",
    "print(list(obj))"
   ]
  },
  {
   "cell_type": "code",
   "execution_count": 23,
   "id": "0007fa68",
   "metadata": {},
   "outputs": [
    {
     "data": {
      "text/plain": [
       "20"
      ]
     },
     "execution_count": 23,
     "metadata": {},
     "output_type": "execute_result"
    }
   ],
   "source": [
    "# Reduce function\n",
    "\n",
    "from functools import reduce\n",
    "\n",
    "reduce(lambda x,y: x+y,[2,4,6,8])"
   ]
  },
  {
   "cell_type": "code",
   "execution_count": 24,
   "id": "978cfce2",
   "metadata": {},
   "outputs": [
    {
     "name": "stdout",
     "output_type": "stream",
     "text": [
      "20\n"
     ]
    }
   ],
   "source": [
    "num = [2,4,6,8]\n",
    "\n",
    "def adding(a,b):\n",
    "    return a+b\n",
    "result = reduce(adding, num)\n",
    "print(result)"
   ]
  },
  {
   "cell_type": "code",
   "execution_count": null,
   "id": "18250e5c",
   "metadata": {},
   "outputs": [],
   "source": []
  }
 ],
 "metadata": {
  "kernelspec": {
   "display_name": "Python 3 (ipykernel)",
   "language": "python",
   "name": "python3"
  },
  "language_info": {
   "codemirror_mode": {
    "name": "ipython",
    "version": 3
   },
   "file_extension": ".py",
   "mimetype": "text/x-python",
   "name": "python",
   "nbconvert_exporter": "python",
   "pygments_lexer": "ipython3",
   "version": "3.9.13"
  }
 },
 "nbformat": 4,
 "nbformat_minor": 5
}
