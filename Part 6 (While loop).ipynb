{
 "cells": [
  {
   "cell_type": "code",
   "execution_count": 1,
   "id": "c4d45251",
   "metadata": {},
   "outputs": [
    {
     "name": "stdout",
     "output_type": "stream",
     "text": [
      "['a', 'b', 'c', 'd', 'a']\n"
     ]
    }
   ],
   "source": [
    "# Sample example\n",
    "\n",
    "a = ['a', 'b', 'c']\n",
    "b = 'da'\n",
    "a += b\n",
    "print(a)"
   ]
  },
  {
   "cell_type": "code",
   "execution_count": 2,
   "id": "0f855db7",
   "metadata": {},
   "outputs": [
    {
     "name": "stdout",
     "output_type": "stream",
     "text": [
      "1#\n",
      "2#\n",
      "3#\n",
      "4#\n",
      "5#\n"
     ]
    }
   ],
   "source": [
    "# While Loop\n",
    "\n",
    "i = 0\n",
    "while i<5:\n",
    "    i += 1\n",
    "    print(i, end='#') #end parameter is #\n",
    "    print()"
   ]
  },
  {
   "cell_type": "code",
   "execution_count": 3,
   "id": "1f377150",
   "metadata": {},
   "outputs": [
    {
     "name": "stdout",
     "output_type": "stream",
     "text": [
      "Please enter your name.\n",
      "Basant\n",
      "Please enter your name.\n",
      "Heroin\n",
      "Please enter your name.\n",
      "Hero\n",
      "Thankyou ! You typed the correct name.\n"
     ]
    }
   ],
   "source": [
    "while True:\n",
    "    print(\"Please enter your name.\")\n",
    "    name = input()\n",
    "    if name ==\"Hero\":\n",
    "        break\n",
    "print(\"Thankyou ! You typed the correct name.\")"
   ]
  },
  {
   "cell_type": "code",
   "execution_count": 7,
   "id": "f2d11f31",
   "metadata": {},
   "outputs": [
    {
     "name": "stdout",
     "output_type": "stream",
     "text": [
      "28 is the LCM of 4 and 7\n"
     ]
    }
   ],
   "source": [
    "# Finding LCM\n",
    "\n",
    "i = 0\n",
    "while True:\n",
    "    i += 1\n",
    "    if not(i%4 or i%7):\n",
    "        break\n",
    "print(i, \"is the LCM of 4 and 7\")"
   ]
  },
  {
   "cell_type": "code",
   "execution_count": null,
   "id": "3597b440",
   "metadata": {},
   "outputs": [],
   "source": [
    "i = 10\n",
    "while i < 10:\n",
    "    i += 1\n",
    "    if i == 5:\n",
    "        continue\n",
    "    print(i)"
   ]
  }
 ],
 "metadata": {
  "kernelspec": {
   "display_name": "Python 3 (ipykernel)",
   "language": "python",
   "name": "python3"
  },
  "language_info": {
   "codemirror_mode": {
    "name": "ipython",
    "version": 3
   },
   "file_extension": ".py",
   "mimetype": "text/x-python",
   "name": "python",
   "nbconvert_exporter": "python",
   "pygments_lexer": "ipython3",
   "version": "3.9.13"
  }
 },
 "nbformat": 4,
 "nbformat_minor": 5
}
