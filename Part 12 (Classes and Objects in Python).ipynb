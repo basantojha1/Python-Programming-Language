{
 "cells": [
  {
   "cell_type": "code",
   "execution_count": 1,
   "id": "70e2e55f",
   "metadata": {},
   "outputs": [
    {
     "data": {
      "text/plain": [
       "10"
      ]
     },
     "execution_count": 1,
     "metadata": {},
     "output_type": "execute_result"
    }
   ],
   "source": [
    "# Python Classes and Objects\n",
    "\n",
    "class newClass:\n",
    "    x = 10\n",
    "\n",
    "newClass.x"
   ]
  },
  {
   "cell_type": "code",
   "execution_count": 2,
   "id": "3e8bcbdc",
   "metadata": {},
   "outputs": [
    {
     "name": "stdout",
     "output_type": "stream",
     "text": [
      "20\n"
     ]
    }
   ],
   "source": [
    "class newClass1:\n",
    "    x = 20\n",
    "\n",
    "# Create Object\n",
    "obj = newClass1()\n",
    "print(obj.x)"
   ]
  },
  {
   "cell_type": "code",
   "execution_count": 5,
   "id": "73dc0f4a",
   "metadata": {},
   "outputs": [
    {
     "name": "stdout",
     "output_type": "stream",
     "text": [
      "10 Hero\n"
     ]
    }
   ],
   "source": [
    "class Student:\n",
    "    id = 10\n",
    "    name = \"Hero\"\n",
    "    def detail(self):\n",
    "        print(self.id, self.name)\n",
    "\n",
    "stud = Student()\n",
    "stud.detail()\n",
    "        "
   ]
  },
  {
   "cell_type": "code",
   "execution_count": 12,
   "id": "b2c64395",
   "metadata": {},
   "outputs": [
    {
     "name": "stdout",
     "output_type": "stream",
     "text": [
      "15\n",
      "<function student.welcome at 0x0000018740653790>\n",
      "This is a class\n"
     ]
    }
   ],
   "source": [
    "# Doc String\n",
    "\n",
    "class student:\n",
    "    \"This is a class\"\n",
    "    age = 15\n",
    "    def welcome (self):\n",
    "        print(\"Hello, Welcome to my World\")\n",
    "\n",
    "print(student.age)\n",
    "print(student.welcome)\n",
    "print(student.__doc__)"
   ]
  },
  {
   "cell_type": "code",
   "execution_count": 13,
   "id": "74a429a6",
   "metadata": {},
   "outputs": [
    {
     "name": "stdout",
     "output_type": "stream",
     "text": [
      "Hari\n",
      "14\n"
     ]
    }
   ],
   "source": [
    "# init function\n",
    "\n",
    "class student:\n",
    "    def __init__(self,name,age):\n",
    "        self.name = name\n",
    "        self.age = age\n",
    "        \n",
    "obj = student('Hari',14)\n",
    "print(obj.name)\n",
    "print(obj.age)"
   ]
  },
  {
   "cell_type": "code",
   "execution_count": 14,
   "id": "5676b486",
   "metadata": {},
   "outputs": [],
   "source": [
    "# Delete property\n",
    "\n",
    "del obj.age"
   ]
  },
  {
   "cell_type": "code",
   "execution_count": 15,
   "id": "2fcb70ec",
   "metadata": {},
   "outputs": [
    {
     "ename": "AttributeError",
     "evalue": "'student' object has no attribute 'age'",
     "output_type": "error",
     "traceback": [
      "\u001b[1;31m---------------------------------------------------------------------------\u001b[0m",
      "\u001b[1;31mAttributeError\u001b[0m                            Traceback (most recent call last)",
      "\u001b[1;32m~\\AppData\\Local\\Temp\\ipykernel_4156\\2430841249.py\u001b[0m in \u001b[0;36m<module>\u001b[1;34m\u001b[0m\n\u001b[1;32m----> 1\u001b[1;33m \u001b[0mprint\u001b[0m\u001b[1;33m(\u001b[0m\u001b[0mobj\u001b[0m\u001b[1;33m.\u001b[0m\u001b[0mage\u001b[0m\u001b[1;33m)\u001b[0m\u001b[1;33m\u001b[0m\u001b[1;33m\u001b[0m\u001b[0m\n\u001b[0m",
      "\u001b[1;31mAttributeError\u001b[0m: 'student' object has no attribute 'age'"
     ]
    }
   ],
   "source": [
    "print(obj.age)"
   ]
  },
  {
   "cell_type": "code",
   "execution_count": 16,
   "id": "b93c19c6",
   "metadata": {},
   "outputs": [],
   "source": [
    "del obj\n"
   ]
  },
  {
   "cell_type": "code",
   "execution_count": 17,
   "id": "627f5fb3",
   "metadata": {},
   "outputs": [],
   "source": [
    "# object deleted"
   ]
  },
  {
   "cell_type": "code",
   "execution_count": 21,
   "id": "0fab5f05",
   "metadata": {},
   "outputs": [
    {
     "name": "stdout",
     "output_type": "stream",
     "text": [
      "Hello my name is Cat\n"
     ]
    }
   ],
   "source": [
    "class animal:\n",
    "    def __init__(self, name):\n",
    "        self.name = name\n",
    "        \n",
    "    def greet(self):\n",
    "        print(\"Hello my name is\", self.name)\n",
    "        \n",
    "obj = animal('Cat')\n",
    "obj.greet()"
   ]
  },
  {
   "cell_type": "code",
   "execution_count": null,
   "id": "2aed306f",
   "metadata": {},
   "outputs": [],
   "source": []
  }
 ],
 "metadata": {
  "kernelspec": {
   "display_name": "Python 3 (ipykernel)",
   "language": "python",
   "name": "python3"
  },
  "language_info": {
   "codemirror_mode": {
    "name": "ipython",
    "version": 3
   },
   "file_extension": ".py",
   "mimetype": "text/x-python",
   "name": "python",
   "nbconvert_exporter": "python",
   "pygments_lexer": "ipython3",
   "version": "3.9.13"
  }
 },
 "nbformat": 4,
 "nbformat_minor": 5
}
