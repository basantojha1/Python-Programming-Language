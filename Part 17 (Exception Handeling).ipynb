{
 "cells": [
  {
   "cell_type": "code",
   "execution_count": null,
   "id": "86011327",
   "metadata": {},
   "outputs": [],
   "source": [
    "# Divison by zero exception error\n",
    "\n",
    "a = 10\n",
    "b = 0\n",
    "c = a/b\n",
    "\n",
    "print('a/b = %d'%c)"
   ]
  },
  {
   "cell_type": "code",
   "execution_count": 5,
   "id": "84b95606",
   "metadata": {},
   "outputs": [
    {
     "name": "stdout",
     "output_type": "stream",
     "text": [
      "Enter a:10\n",
      "Enter b:0\n",
      "Cannot divide a number by zero\n"
     ]
    }
   ],
   "source": [
    "# try except\n",
    "\n",
    "try:\n",
    "    a = int(input('Enter a:'))\n",
    "    b = int(input('Enter b:'))\n",
    "    c = a/b\n",
    "except:\n",
    "    print('Cannot divide a number by zero')"
   ]
  },
  {
   "cell_type": "code",
   "execution_count": 15,
   "id": "6686e57b",
   "metadata": {},
   "outputs": [
    {
     "name": "stdout",
     "output_type": "stream",
     "text": [
      "Do not divide number by zero\n",
      "Completed\n"
     ]
    }
   ],
   "source": [
    "a = 30\n",
    "b = 0\n",
    "\n",
    "try:\n",
    "    print(a/b)\n",
    "    print('New Line')\n",
    "except ZeroDivisionError:\n",
    "    print('Do not divide number by zero')\n",
    "print('Completed')"
   ]
  },
  {
   "cell_type": "code",
   "execution_count": 16,
   "id": "c53c2795",
   "metadata": {},
   "outputs": [
    {
     "name": "stdout",
     "output_type": "stream",
     "text": [
      "3.0\n",
      "New Line\n",
      "Completed\n"
     ]
    }
   ],
   "source": [
    "# exception block doesn't get executed if there is no exception\n",
    "a = 30\n",
    "b = 10\n",
    "\n",
    "try:\n",
    "    print(a/b)\n",
    "    print('New Line')\n",
    "except ZeroDivisionError:\n",
    "    print('Do not divide number by zero')\n",
    "print('Completed')"
   ]
  },
  {
   "cell_type": "code",
   "execution_count": 17,
   "id": "09389121",
   "metadata": {},
   "outputs": [
    {
     "name": "stdout",
     "output_type": "stream",
     "text": [
      "Enter a:10\n",
      "Enter b:1\n",
      "a/b = 10\n",
      "Hello\n"
     ]
    }
   ],
   "source": [
    "try:\n",
    "    a = int(input('Enter a:'))\n",
    "    b = int(input('Enter b:'))\n",
    "    c = a/b\n",
    "    print('a/b = %d'%c)\n",
    "except Exception:\n",
    "    print('Cannot divide by zero')\n",
    "    print(Exception)\n",
    "else:\n",
    "    print('Hello')"
   ]
  },
  {
   "cell_type": "code",
   "execution_count": null,
   "id": "6c8822b5",
   "metadata": {},
   "outputs": [],
   "source": []
  }
 ],
 "metadata": {
  "kernelspec": {
   "display_name": "Python 3 (ipykernel)",
   "language": "python",
   "name": "python3"
  },
  "language_info": {
   "codemirror_mode": {
    "name": "ipython",
    "version": 3
   },
   "file_extension": ".py",
   "mimetype": "text/x-python",
   "name": "python",
   "nbconvert_exporter": "python",
   "pygments_lexer": "ipython3",
   "version": "3.9.13"
  }
 },
 "nbformat": 4,
 "nbformat_minor": 5
}
