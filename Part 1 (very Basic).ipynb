{
 "cells": [
  {
   "cell_type": "code",
   "execution_count": 2,
   "id": "21192025",
   "metadata": {},
   "outputs": [
    {
     "data": {
      "text/plain": [
       "'Hundai'"
      ]
     },
     "execution_count": 2,
     "metadata": {},
     "output_type": "execute_result"
    }
   ],
   "source": [
    "car = \"Hundai\"\n",
    "car"
   ]
  },
  {
   "cell_type": "code",
   "execution_count": 3,
   "id": "bf7453f6",
   "metadata": {},
   "outputs": [
    {
     "ename": "NameError",
     "evalue": "name 'Car' is not defined",
     "output_type": "error",
     "traceback": [
      "\u001b[1;31m---------------------------------------------------------------------------\u001b[0m",
      "\u001b[1;31mNameError\u001b[0m                                 Traceback (most recent call last)",
      "\u001b[1;32m~\\AppData\\Local\\Temp\\ipykernel_1888\\1666468209.py\u001b[0m in \u001b[0;36m<module>\u001b[1;34m\u001b[0m\n\u001b[1;32m----> 1\u001b[1;33m \u001b[0mCar\u001b[0m\u001b[1;33m\u001b[0m\u001b[1;33m\u001b[0m\u001b[0m\n\u001b[0m",
      "\u001b[1;31mNameError\u001b[0m: name 'Car' is not defined"
     ]
    }
   ],
   "source": [
    "# python is case sensitive\n",
    "Car"
   ]
  },
  {
   "cell_type": "code",
   "execution_count": 4,
   "id": "a38c6949",
   "metadata": {},
   "outputs": [
    {
     "ename": "SyntaxError",
     "evalue": "invalid syntax (2758498808.py, line 1)",
     "output_type": "error",
     "traceback": [
      "\u001b[1;36m  File \u001b[1;32m\"C:\\Users\\BSNT\\AppData\\Local\\Temp\\ipykernel_1888\\2758498808.py\"\u001b[1;36m, line \u001b[1;32m1\u001b[0m\n\u001b[1;33m    12Bas = \"Basant\"\u001b[0m\n\u001b[1;37m      ^\u001b[0m\n\u001b[1;31mSyntaxError\u001b[0m\u001b[1;31m:\u001b[0m invalid syntax\n"
     ]
    }
   ],
   "source": [
    "# Variable name cannot start with a integer & Special characters cannot be used in variable names\n",
    "12Bas = \"Basant\"\n",
    "12Bas"
   ]
  },
  {
   "cell_type": "code",
   "execution_count": 11,
   "id": "5b130663",
   "metadata": {},
   "outputs": [
    {
     "data": {
      "text/plain": [
       "12"
      ]
     },
     "execution_count": 11,
     "metadata": {},
     "output_type": "execute_result"
    }
   ],
   "source": [
    "Bas12_1 = 12\n",
    "Bas12_1\n"
   ]
  },
  {
   "cell_type": "code",
   "execution_count": 12,
   "id": "70588f87",
   "metadata": {},
   "outputs": [
    {
     "name": "stdout",
     "output_type": "stream",
     "text": [
      "30\n"
     ]
    }
   ],
   "source": [
    "# Arithematic operation\n",
    "a = 10\n",
    "b = 20\n",
    "result = a + b\n",
    "print(result)"
   ]
  },
  {
   "cell_type": "code",
   "execution_count": 13,
   "id": "8c969cf7",
   "metadata": {},
   "outputs": [
    {
     "name": "stdout",
     "output_type": "stream",
     "text": [
      "-10\n"
     ]
    }
   ],
   "source": [
    "a = 10\n",
    "b = 20\n",
    "result = a - b\n",
    "print(result)"
   ]
  },
  {
   "cell_type": "code",
   "execution_count": 14,
   "id": "9f0842fc",
   "metadata": {},
   "outputs": [
    {
     "data": {
      "text/plain": [
       "2.5"
      ]
     },
     "execution_count": 14,
     "metadata": {},
     "output_type": "execute_result"
    }
   ],
   "source": [
    "a = 100 / 40"
   ]
  },
  {
   "cell_type": "code",
   "execution_count": 15,
   "id": "476c8b9b",
   "metadata": {},
   "outputs": [
    {
     "data": {
      "text/plain": [
       "2"
      ]
     },
     "execution_count": 15,
     "metadata": {},
     "output_type": "execute_result"
    }
   ],
   "source": [
    "a = 100 // 40\n",
    "a"
   ]
  },
  {
   "cell_type": "code",
   "execution_count": 32,
   "id": "82b6b894",
   "metadata": {},
   "outputs": [
    {
     "name": "stdout",
     "output_type": "stream",
     "text": [
      "Basa\n"
     ]
    }
   ],
   "source": [
    "# We canot use python reserved keywords as variable names\n",
    "\n",
    "name = \"Basant\"\n",
    "a = name[:4]\n",
    "print (a)"
   ]
  },
  {
   "cell_type": "code",
   "execution_count": 22,
   "id": "f6e7b788",
   "metadata": {},
   "outputs": [
    {
     "data": {
      "text/plain": [
       "['Basant', 'Hemant', 'Nishant', 'Jyoti']"
      ]
     },
     "execution_count": 22,
     "metadata": {},
     "output_type": "execute_result"
    }
   ],
   "source": [
    "names = ['Basant', 'Hemant', 'Nishant', 'Jyoti']\n",
    "names"
   ]
  },
  {
   "cell_type": "code",
   "execution_count": 25,
   "id": "71645662",
   "metadata": {},
   "outputs": [
    {
     "name": "stdout",
     "output_type": "stream",
     "text": [
      "Basant\n",
      "Hemant\n",
      "Nishant\n",
      "Jyoti\n"
     ]
    }
   ],
   "source": [
    "# assigning List values to different variables\n",
    "w, x, y, z = names\n",
    "print(w)\n",
    "print(x)\n",
    "print(y)\n",
    "print(z)"
   ]
  },
  {
   "cell_type": "code",
   "execution_count": 26,
   "id": "5f57e45d",
   "metadata": {},
   "outputs": [
    {
     "name": "stdout",
     "output_type": "stream",
     "text": [
      "Best of luck Hemant!!\n"
     ]
    }
   ],
   "source": [
    "print('Best of luck ' + x + '!!')"
   ]
  },
  {
   "cell_type": "code",
   "execution_count": 30,
   "id": "cce5c707",
   "metadata": {},
   "outputs": [
    {
     "name": "stdout",
     "output_type": "stream",
     "text": [
      "Basant\n",
      "Islington\n",
      "KamalPokhari\n",
      "2018\n"
     ]
    }
   ],
   "source": [
    "#Camel Case\n",
    "\n",
    "myName = \"Basant\"\n",
    "myCollege = \"Islington\"\n",
    "locationIs = \"KamalPokhari\"\n",
    "joinedCollegeIn = 2018\n",
    "\n",
    "print(myName)\n",
    "print(myCollege)\n",
    "print(locationIs)\n",
    "print(joinedCollegeIn)\n"
   ]
  },
  {
   "cell_type": "code",
   "execution_count": 29,
   "id": "92240930",
   "metadata": {},
   "outputs": [
    {
     "name": "stdout",
     "output_type": "stream",
     "text": [
      "Basant\n",
      "Islington\n"
     ]
    }
   ],
   "source": [
    "#Pascle Case\n",
    "\n",
    "MyName = \"Basant\"\n",
    "MyCollege = \"Islington\"\n",
    "\n",
    "print(MyName)\n",
    "print(MyCollege)"
   ]
  },
  {
   "cell_type": "code",
   "execution_count": 31,
   "id": "f5e4b8b8",
   "metadata": {},
   "outputs": [
    {
     "name": "stdout",
     "output_type": "stream",
     "text": [
      "Basant\n",
      "Islington\n"
     ]
    }
   ],
   "source": [
    "#Snake Case\n",
    "\n",
    "my_name = \"Basant\"\n",
    "my_college = \"Islington\"\n",
    "\n",
    "print(my_name)\n",
    "print(my_college)"
   ]
  },
  {
   "cell_type": "code",
   "execution_count": 33,
   "id": "caf08108",
   "metadata": {},
   "outputs": [],
   "source": []
  },
  {
   "cell_type": "code",
   "execution_count": null,
   "id": "c6f993b5",
   "metadata": {},
   "outputs": [],
   "source": []
  }
 ],
 "metadata": {
  "kernelspec": {
   "display_name": "Python 3 (ipykernel)",
   "language": "python",
   "name": "python3"
  },
  "language_info": {
   "codemirror_mode": {
    "name": "ipython",
    "version": 3
   },
   "file_extension": ".py",
   "mimetype": "text/x-python",
   "name": "python",
   "nbconvert_exporter": "python",
   "pygments_lexer": "ipython3",
   "version": "3.9.13"
  }
 },
 "nbformat": 4,
 "nbformat_minor": 5
}
