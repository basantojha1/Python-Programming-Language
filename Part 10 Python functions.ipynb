{
 "cells": [
  {
   "cell_type": "code",
   "execution_count": 1,
   "id": "932a8e44",
   "metadata": {},
   "outputs": [
    {
     "name": "stdout",
     "output_type": "stream",
     "text": [
      "10\n"
     ]
    }
   ],
   "source": [
    "# Built-in function in python\n",
    "\n",
    "#abs function\n",
    "\n",
    "a = -10\n",
    "print(abs(a))"
   ]
  },
  {
   "cell_type": "code",
   "execution_count": 2,
   "id": "28af4e43",
   "metadata": {},
   "outputs": [
    {
     "name": "stdout",
     "output_type": "stream",
     "text": [
      "4\n"
     ]
    }
   ],
   "source": [
    "# len function\n",
    "\n",
    "l1 = ['Ram','Shyam','Hari','Gita']\n",
    "x = len(l1)\n",
    "print(x)"
   ]
  },
  {
   "cell_type": "code",
   "execution_count": 4,
   "id": "49396688",
   "metadata": {},
   "outputs": [
    {
     "name": "stdout",
     "output_type": "stream",
     "text": [
      "False\n"
     ]
    }
   ],
   "source": [
    "# all function\n",
    "\n",
    "list1 = [1,2,3,4,5,0]\n",
    "x = all(list1)\n",
    "print(x)"
   ]
  },
  {
   "cell_type": "code",
   "execution_count": 5,
   "id": "7b4a1a05",
   "metadata": {},
   "outputs": [
    {
     "name": "stdout",
     "output_type": "stream",
     "text": [
      "60\n",
      "6\n"
     ]
    }
   ],
   "source": [
    "# sum function\n",
    "\n",
    "s = sum([10,20,30]) # List\n",
    "ss = sum((1,2,3)) #Tuple\n",
    "print(s)\n",
    "print(ss)"
   ]
  },
  {
   "cell_type": "code",
   "execution_count": 6,
   "id": "45799f83",
   "metadata": {},
   "outputs": [
    {
     "name": "stdout",
     "output_type": "stream",
     "text": [
      "45\n"
     ]
    }
   ],
   "source": [
    "# max and min function\n",
    "\n",
    "m1 = max(3,6,8,12,45,2,3)\n",
    "print(m1)"
   ]
  },
  {
   "cell_type": "code",
   "execution_count": 7,
   "id": "fede56de",
   "metadata": {},
   "outputs": [
    {
     "name": "stdout",
     "output_type": "stream",
     "text": [
      "2\n"
     ]
    }
   ],
   "source": [
    "m2 = min(2,4,6,9,12,54)\n",
    "print(m2)"
   ]
  },
  {
   "cell_type": "code",
   "execution_count": 9,
   "id": "41fb8b24",
   "metadata": {},
   "outputs": [
    {
     "name": "stdout",
     "output_type": "stream",
     "text": [
      "84\n"
     ]
    }
   ],
   "source": [
    "maxd =max({2,4,7,12,84,2,76})\n",
    "print(maxd)"
   ]
  },
  {
   "cell_type": "code",
   "execution_count": 10,
   "id": "16198f53",
   "metadata": {},
   "outputs": [
    {
     "name": "stdout",
     "output_type": "stream",
     "text": [
      "A\n"
     ]
    }
   ],
   "source": [
    "# iter function and next function prints the next value in the iterating list\n",
    "\n",
    "lst1 = iter(['A','B','C','D'])\n",
    "x = next(lst1)\n",
    "print(x)"
   ]
  },
  {
   "cell_type": "code",
   "execution_count": 11,
   "id": "a4ed106d",
   "metadata": {},
   "outputs": [
    {
     "name": "stdout",
     "output_type": "stream",
     "text": [
      "B\n"
     ]
    }
   ],
   "source": [
    "x = next(lst1)\n",
    "print(x)"
   ]
  },
  {
   "cell_type": "code",
   "execution_count": 12,
   "id": "31e22f09",
   "metadata": {},
   "outputs": [
    {
     "name": "stdout",
     "output_type": "stream",
     "text": [
      "C\n"
     ]
    }
   ],
   "source": [
    "x = next(lst1)\n",
    "print(x)"
   ]
  },
  {
   "cell_type": "code",
   "execution_count": 13,
   "id": "b81cfb5c",
   "metadata": {},
   "outputs": [
    {
     "name": "stdout",
     "output_type": "stream",
     "text": [
      "27\n",
      "16\n"
     ]
    }
   ],
   "source": [
    "# pow function (power function)\n",
    "\n",
    "x1 = pow(3,3)\n",
    "x2 = pow(2,4)\n",
    "print(x1)\n",
    "print(x2)"
   ]
  },
  {
   "cell_type": "code",
   "execution_count": 14,
   "id": "070a80cb",
   "metadata": {},
   "outputs": [
    {
     "name": "stdout",
     "output_type": "stream",
     "text": [
      "0\n",
      "1\n",
      "2\n",
      "3\n",
      "4\n",
      "5\n"
     ]
    }
   ],
   "source": [
    "# Range function\n",
    "y = range(6)\n",
    "for i in y:\n",
    "    print(i)"
   ]
  },
  {
   "cell_type": "code",
   "execution_count": 15,
   "id": "e706937d",
   "metadata": {},
   "outputs": [
    {
     "name": "stdout",
     "output_type": "stream",
     "text": [
      "40\n",
      "42\n",
      "44\n",
      "46\n",
      "48\n"
     ]
    }
   ],
   "source": [
    "# (start, end, step)\n",
    "\n",
    "x = range(40,50,2)\n",
    "for i in x:\n",
    "    print(i)"
   ]
  },
  {
   "cell_type": "code",
   "execution_count": 16,
   "id": "cf622acf",
   "metadata": {},
   "outputs": [
    {
     "name": "stdout",
     "output_type": "stream",
     "text": [
      "10.12\n"
     ]
    }
   ],
   "source": [
    "# round function\n",
    "\n",
    "x = round(10.1234, 2)\n",
    "print(x)"
   ]
  },
  {
   "cell_type": "code",
   "execution_count": 17,
   "id": "65393edc",
   "metadata": {},
   "outputs": [
    {
     "name": "stdout",
     "output_type": "stream",
     "text": [
      "[3, 4, 5, 6, 7, 8, 12, 14]\n"
     ]
    }
   ],
   "source": [
    "# sorted function\n",
    "\n",
    "a = [3,4,12,5,6,14,7,8]\n",
    "x = sorted(a)\n",
    "print(x)"
   ]
  },
  {
   "cell_type": "code",
   "execution_count": 18,
   "id": "6fb10f7c",
   "metadata": {},
   "outputs": [
    {
     "name": "stdout",
     "output_type": "stream",
     "text": [
      "[14, 12, 8, 7, 6, 5, 4, 3]\n"
     ]
    }
   ],
   "source": [
    "a = [3,4,12,5,6,14,7,8]\n",
    "x = sorted(a, reverse = True)\n",
    "print(x)"
   ]
  },
  {
   "cell_type": "code",
   "execution_count": 20,
   "id": "4945b778",
   "metadata": {},
   "outputs": [
    {
     "name": "stdout",
     "output_type": "stream",
     "text": [
      "('S', 'L', 'I')\n"
     ]
    }
   ],
   "source": [
    "# Slice function\n",
    "\n",
    "a = ('S','L','I','C','E','S')\n",
    "x = slice(3)\n",
    "print(a[x])"
   ]
  },
  {
   "cell_type": "code",
   "execution_count": 21,
   "id": "58ba79db",
   "metadata": {},
   "outputs": [],
   "source": [
    "\n",
    "# User Defined functions\n"
   ]
  },
  {
   "cell_type": "code",
   "execution_count": 22,
   "id": "7fdb1324",
   "metadata": {},
   "outputs": [
    {
     "name": "stdout",
     "output_type": "stream",
     "text": [
      "Hello Bro!\n"
     ]
    }
   ],
   "source": [
    "# First define a function then call that function outside the function\n",
    "\n",
    "def myfunc():\n",
    "    print('Hello Bro!')\n",
    "myfunc()"
   ]
  },
  {
   "cell_type": "code",
   "execution_count": 26,
   "id": "716a0167",
   "metadata": {},
   "outputs": [
    {
     "name": "stdout",
     "output_type": "stream",
     "text": [
      "Enter your name: Admin\n",
      "Hello Admin\n"
     ]
    }
   ],
   "source": [
    " def func1():\n",
    "    name = str(input('Enter your name: '))\n",
    "    print('Hello '+ name)\n",
    "func1()"
   ]
  },
  {
   "cell_type": "code",
   "execution_count": 31,
   "id": "82e43c59",
   "metadata": {},
   "outputs": [
    {
     "data": {
      "text/plain": [
       "91.44"
      ]
     },
     "execution_count": 31,
     "metadata": {},
     "output_type": "execute_result"
    }
   ],
   "source": [
    "# Passing argument in user defined function\n",
    "\n",
    "def ft_cm(ft):\n",
    "    cm = ft * 30.48\n",
    "    return cm\n",
    "\n",
    "ft_cm(3)"
   ]
  },
  {
   "cell_type": "code",
   "execution_count": 35,
   "id": "52384296",
   "metadata": {},
   "outputs": [
    {
     "data": {
      "text/plain": [
       "30"
      ]
     },
     "execution_count": 35,
     "metadata": {},
     "output_type": "execute_result"
    }
   ],
   "source": [
    "def add(x,y):\n",
    "    sum = x+y\n",
    "    return sum\n",
    "add(10,20)"
   ]
  },
  {
   "cell_type": "code",
   "execution_count": 39,
   "id": "db2f7b0f",
   "metadata": {},
   "outputs": [
    {
     "data": {
      "text/plain": [
       "56"
      ]
     },
     "execution_count": 39,
     "metadata": {},
     "output_type": "execute_result"
    }
   ],
   "source": [
    "def absolute(x):\n",
    "    if x >=0:\n",
    "        return x\n",
    "    else:\n",
    "        return -x\n",
    "absolute(-56)"
   ]
  },
  {
   "cell_type": "code",
   "execution_count": 43,
   "id": "c874e4ca",
   "metadata": {},
   "outputs": [
    {
     "data": {
      "text/plain": [
       "120"
      ]
     },
     "execution_count": 43,
     "metadata": {},
     "output_type": "execute_result"
    }
   ],
   "source": [
    "# To find factorial\n",
    "\n",
    "def factorial(a):\n",
    "    if a ==0:\n",
    "        return 1\n",
    "    else:\n",
    "        return a * factorial(a-1)\n",
    "factorial(5)"
   ]
  },
  {
   "cell_type": "code",
   "execution_count": 46,
   "id": "685ce1a1",
   "metadata": {},
   "outputs": [
    {
     "name": "stdout",
     "output_type": "stream",
     "text": [
      "hello Hero\n"
     ]
    }
   ],
   "source": [
    "# Default arguments (exlpicit value takes priority over default value)\n",
    "\n",
    "def welcome(name = \"Hero\"):\n",
    "    print('hello', name)\n",
    "welcome()\n",
    "# welcome('Racy')"
   ]
  },
  {
   "cell_type": "code",
   "execution_count": 47,
   "id": "1e40e131",
   "metadata": {},
   "outputs": [
    {
     "name": "stdout",
     "output_type": "stream",
     "text": [
      "3\n"
     ]
    }
   ],
   "source": [
    "#scope of variable in function\n",
    "\n",
    "def func2():\n",
    "    z=3 # Local Variable\n",
    "    print(z)\n",
    "func2()"
   ]
  },
  {
   "cell_type": "code",
   "execution_count": 48,
   "id": "e8887fd4",
   "metadata": {},
   "outputs": [
    {
     "ename": "NameError",
     "evalue": "name 'z' is not defined",
     "output_type": "error",
     "traceback": [
      "\u001b[1;31m---------------------------------------------------------------------------\u001b[0m",
      "\u001b[1;31mNameError\u001b[0m                                 Traceback (most recent call last)",
      "\u001b[1;32m~\\AppData\\Local\\Temp\\ipykernel_6680\\557461111.py\u001b[0m in \u001b[0;36m<module>\u001b[1;34m\u001b[0m\n\u001b[1;32m----> 1\u001b[1;33m \u001b[0mprint\u001b[0m\u001b[1;33m(\u001b[0m\u001b[0mz\u001b[0m\u001b[1;33m)\u001b[0m\u001b[1;33m\u001b[0m\u001b[1;33m\u001b[0m\u001b[0m\n\u001b[0m",
      "\u001b[1;31mNameError\u001b[0m: name 'z' is not defined"
     ]
    }
   ],
   "source": [
    "print(z) # this variable is declared inside the function so it can only be printed inside the function"
   ]
  },
  {
   "cell_type": "code",
   "execution_count": 49,
   "id": "4cb6fb9e",
   "metadata": {},
   "outputs": [
    {
     "name": "stdout",
     "output_type": "stream",
     "text": [
      "3\n"
     ]
    }
   ],
   "source": [
    "z = 3\n",
    "def func2():\n",
    "    print(z)\n",
    "func2()"
   ]
  },
  {
   "cell_type": "code",
   "execution_count": 50,
   "id": "4f1be30e",
   "metadata": {},
   "outputs": [
    {
     "name": "stdout",
     "output_type": "stream",
     "text": [
      "3\n"
     ]
    }
   ],
   "source": [
    "print(z) # In this case it is declared Globally so it is Global Variable"
   ]
  },
  {
   "cell_type": "code",
   "execution_count": 52,
   "id": "52eb2f2d",
   "metadata": {},
   "outputs": [],
   "source": [
    "# Cannot change variable value declared globally from inside the function"
   ]
  },
  {
   "cell_type": "code",
   "execution_count": 53,
   "id": "fac3d323",
   "metadata": {},
   "outputs": [
    {
     "name": "stdout",
     "output_type": "stream",
     "text": [
      "11\n"
     ]
    }
   ],
   "source": [
    "a = 10\n",
    "def funcc():\n",
    "    global a\n",
    "    a += 1\n",
    "    print(a)\n",
    "funcc()"
   ]
  },
  {
   "cell_type": "code",
   "execution_count": 54,
   "id": "08b22b3e",
   "metadata": {},
   "outputs": [
    {
     "name": "stdout",
     "output_type": "stream",
     "text": [
      "Hello Rahul , Pratik\n"
     ]
    }
   ],
   "source": [
    "def wlc(*name):\n",
    "    print('Hello',name[0],',',name[1])\n",
    "wlc('Rahul','Pratik')"
   ]
  },
  {
   "cell_type": "code",
   "execution_count": 55,
   "id": "53a1d897",
   "metadata": {},
   "outputs": [
    {
     "name": "stdout",
     "output_type": "stream",
     "text": [
      "circle area is: 314.0\n",
      "Sphere area is: 1256.0\n"
     ]
    }
   ],
   "source": [
    "pi = 3.14\n",
    "def circlearea(radius):\n",
    "    return pi * radius**2\n",
    "\n",
    "def spherearea(radius):\n",
    "    return 4*pi*radius**2\n",
    "\n",
    "def main():\n",
    "    print(\"circle area is:\", circlearea(10))\n",
    "    print(\"Sphere area is:\", spherearea(10))\n",
    "main()"
   ]
  },
  {
   "cell_type": "code",
   "execution_count": null,
   "id": "29a659d6",
   "metadata": {},
   "outputs": [],
   "source": [
    " "
   ]
  }
 ],
 "metadata": {
  "kernelspec": {
   "display_name": "Python 3 (ipykernel)",
   "language": "python",
   "name": "python3"
  },
  "language_info": {
   "codemirror_mode": {
    "name": "ipython",
    "version": 3
   },
   "file_extension": ".py",
   "mimetype": "text/x-python",
   "name": "python",
   "nbconvert_exporter": "python",
   "pygments_lexer": "ipython3",
   "version": "3.9.13"
  }
 },
 "nbformat": 4,
 "nbformat_minor": 5
}
