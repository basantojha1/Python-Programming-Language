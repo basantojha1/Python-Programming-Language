{
 "cells": [
  {
   "cell_type": "code",
   "execution_count": 2,
   "id": "9afc4fc5",
   "metadata": {},
   "outputs": [
    {
     "name": "stdout",
     "output_type": "stream",
     "text": [
      "BMW year of manufacture 2021\n",
      "Dukati year of manufacture 2022\n"
     ]
    }
   ],
   "source": [
    "class bikes:\n",
    "    def __init__(self, brand,year):\n",
    "        self.brand = brand\n",
    "        self.year = year\n",
    "bmw = bikes('BMW',2021)\n",
    "ducati = bikes('Dukati',2022)\n",
    "\n",
    "print('{} year of manufacture {}'.format(bmw.brand,bmw.year))\n",
    "print('{} year of manufacture {}'.format(ducati.brand,ducati.year))"
   ]
  },
  {
   "cell_type": "code",
   "execution_count": 7,
   "id": "e6dae079",
   "metadata": {},
   "outputs": [
    {
     "name": "stdout",
     "output_type": "stream",
     "text": [
      "BMW topspeed is 200\n",
      "BMW is geared bike\n",
      "Tesla topspeed is 100\n",
      "Tesla is geared bike\n"
     ]
    }
   ],
   "source": [
    "class bikes:\n",
    "    def __init__(self, brand,year):\n",
    "        self.brand = brand\n",
    "        self.year = year\n",
    "    \n",
    "    def topspeed(self,topspeed):\n",
    "        return '{} topspeed is {}'.format(self.brand, topspeed)\n",
    "    \n",
    "    def type(self):\n",
    "        return '{} is geared bike'.format(self.brand)\n",
    "\n",
    "bmw = bikes('BMW',2019)\n",
    "print(bmw.topspeed(200))\n",
    "print(bmw.type())\n",
    "# for tesla\n",
    "tesla = bikes('Tesla',2018)\n",
    "print(tesla.topspeed(100))\n",
    "print(tesla.type())"
   ]
  },
  {
   "cell_type": "code",
   "execution_count": 10,
   "id": "84c47797",
   "metadata": {},
   "outputs": [
    {
     "name": "stdout",
     "output_type": "stream",
     "text": [
      "Cat Meows\n",
      "Animal Making sound\n"
     ]
    }
   ],
   "source": [
    "# single level inheritance\n",
    "\n",
    "class animal:\n",
    "    def sound(self):\n",
    "        print('Animal Making sound')\n",
    "class cat(animal): # class cat is inheriting from class animal\n",
    "    def meow(self):\n",
    "        print('Cat Meows')\n",
    "        \n",
    "obj = cat()\n",
    "obj.meow()\n",
    "obj.sound()\n"
   ]
  },
  {
   "cell_type": "code",
   "execution_count": 11,
   "id": "fa95b656",
   "metadata": {},
   "outputs": [
    {
     "name": "stdout",
     "output_type": "stream",
     "text": [
      "Eat food\n",
      "Cat Meows\n",
      "Animal Making sound\n"
     ]
    }
   ],
   "source": [
    "# Multi level Inheritance\n",
    "\n",
    "class animal:\n",
    "    def sound(self):\n",
    "        print('Animal Making sound')\n",
    "class cat(animal): # class cat is inheriting from class animal\n",
    "    def meow(self):\n",
    "        print('Cat Meows')\n",
    "class catChild(cat):\n",
    "    def eat(self):\n",
    "        print('Eat food')\n",
    "        \n",
    "obj = catChild()\n",
    "obj.eat()\n",
    "obj.meow()\n",
    "obj.sound()"
   ]
  },
  {
   "cell_type": "code",
   "execution_count": 12,
   "id": "68d0da13",
   "metadata": {},
   "outputs": [
    {
     "name": "stdout",
     "output_type": "stream",
     "text": [
      "Parrot can Fly\n",
      "Penguin cannot fly\n"
     ]
    }
   ],
   "source": [
    "# Polymorphism\n",
    "\n",
    "class parrot:\n",
    "    def fly(self):\n",
    "        print('Parrot can Fly')\n",
    "    def swim(self):\n",
    "        print('Parrot cannot Swim')\n",
    "\n",
    "class penguin:\n",
    "    def fly(self):\n",
    "        print('Penguin cannot fly')\n",
    "    def swim(self):\n",
    "        print('Penguin can swim')\n",
    "\n",
    "def flyTesting(bird): \n",
    "    bird.fly()\n",
    "\n",
    "prt = parrot()\n",
    "png = penguin()\n",
    "\n",
    "flyTesting(prt)\n",
    "flyTesting(png)"
   ]
  },
  {
   "cell_type": "code",
   "execution_count": 13,
   "id": "e9f4d7dd",
   "metadata": {},
   "outputs": [
    {
     "name": "stdout",
     "output_type": "stream",
     "text": [
      "selling price is 1000\n"
     ]
    }
   ],
   "source": [
    "# Encapsulation\n",
    "\n",
    "class cars:\n",
    "    def __init__(self):\n",
    "        self.maxPrice = 1000\n",
    "    def sell(self):\n",
    "        print('selling price is {}'.format(self.maxPrice))\n",
    "    def setMaxPrice(self,price):\n",
    "        self.maxPrice = price\n",
    "        \n",
    "c = cars()\n",
    "c.sell()"
   ]
  },
  {
   "cell_type": "code",
   "execution_count": 14,
   "id": "b81e94f9",
   "metadata": {},
   "outputs": [
    {
     "name": "stdout",
     "output_type": "stream",
     "text": [
      "selling price is 1000\n"
     ]
    }
   ],
   "source": [
    "c.setMaxPrice = 2000\n",
    "c.sell()\n",
    "\n",
    "# cannot directly motify or aproach private variable"
   ]
  },
  {
   "cell_type": "code",
   "execution_count": 17,
   "id": "90baae38",
   "metadata": {},
   "outputs": [
    {
     "name": "stdout",
     "output_type": "stream",
     "text": [
      "selling price is 1000\n",
      "selling price is 2000\n"
     ]
    }
   ],
   "source": [
    "class cars:\n",
    "    def __init__(self):\n",
    "        self.maxPrice = 1000\n",
    "    def sell(self):\n",
    "        print('selling price is {}'.format(self.maxPrice))\n",
    "    def setMaxPrice(self,price):\n",
    "        self.maxPrice = price\n",
    "        \n",
    "c = cars()\n",
    "c.sell()\n",
    "c.setMaxPrice(2000)\n",
    "c.sell()"
   ]
  },
  {
   "cell_type": "code",
   "execution_count": 19,
   "id": "f9d27908",
   "metadata": {},
   "outputs": [
    {
     "name": "stdout",
     "output_type": "stream",
     "text": [
      "hari\n",
      "Sita\n"
     ]
    }
   ],
   "source": [
    "# Hierarchical Inheritance\n",
    "class employee:\n",
    "    def __init__(self,name,age,salary):\n",
    "        self.name = name\n",
    "        self.age = age\n",
    "        self.salary = salary\n",
    "    \n",
    "class childemployee1(employee):\n",
    "    def __init__(self,name,age,salary):\n",
    "        self.name = name\n",
    "        self.age = age\n",
    "        self.salary = salary\n",
    "        \n",
    "class childemployee2(employee):\n",
    "    def __init__(self,name,age,salary):\n",
    "        self.name = name\n",
    "        self.age = age\n",
    "        self.salary = salary\n",
    "\n",
    "emp1 = childemployee1('hari',23,1000)\n",
    "emp2 = childemployee1('Sita',22,2000)\n",
    "\n",
    "print(emp1.name)\n",
    "print(emp2.name)\n",
    "        \n"
   ]
  },
  {
   "cell_type": "code",
   "execution_count": 24,
   "id": "f1e889dd",
   "metadata": {},
   "outputs": [
    {
     "name": "stdout",
     "output_type": "stream",
     "text": [
      "The milage is 30kmph\n",
      "The milage is 20kmph\n"
     ]
    }
   ],
   "source": [
    "# Abstraction\n",
    "class car:\n",
    "    def milage(self):\n",
    "        pass\n",
    "    \n",
    "class BMW(car):\n",
    "    def milage(self):\n",
    "        print('The milage is 30kmph')\n",
    "class tesla(car):\n",
    "    def milage(self):\n",
    "        print('The milage is 20kmph')\n",
    "class ducati(car):\n",
    "    def milage(self):\n",
    "        print('The milage is 40kmph')\n",
    "\n",
    "b = BMW()\n",
    "b.milage()\n",
    "\n",
    "t = tesla()\n",
    "t.milage()\n",
    "        "
   ]
  },
  {
   "cell_type": "code",
   "execution_count": null,
   "id": "622fd4a2",
   "metadata": {},
   "outputs": [],
   "source": []
  }
 ],
 "metadata": {
  "kernelspec": {
   "display_name": "Python 3 (ipykernel)",
   "language": "python",
   "name": "python3"
  },
  "language_info": {
   "codemirror_mode": {
    "name": "ipython",
    "version": 3
   },
   "file_extension": ".py",
   "mimetype": "text/x-python",
   "name": "python",
   "nbconvert_exporter": "python",
   "pygments_lexer": "ipython3",
   "version": "3.9.13"
  }
 },
 "nbformat": 4,
 "nbformat_minor": 5
}
