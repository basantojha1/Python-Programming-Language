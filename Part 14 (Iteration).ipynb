{
 "cells": [
  {
   "cell_type": "code",
   "execution_count": 7,
   "id": "76e483eb",
   "metadata": {},
   "outputs": [
    {
     "name": "stdout",
     "output_type": "stream",
     "text": [
      "2\n",
      "4\n",
      "6\n"
     ]
    }
   ],
   "source": [
    "# Iterating through a list\n",
    "\n",
    "list = [2,4,6,8,5,10]\n",
    "myIter = iter(list)\n",
    "print(next(myIter))\n",
    "print(next(myIter))\n",
    "print(myIter.__next__())"
   ]
  },
  {
   "cell_type": "code",
   "execution_count": 9,
   "id": "41dfed68",
   "metadata": {},
   "outputs": [
    {
     "name": "stdout",
     "output_type": "stream",
     "text": [
      "H\n",
      "e\n",
      "r\n",
      "o\n"
     ]
    }
   ],
   "source": [
    "#Iterating through a string\n",
    "\n",
    "x = 'Hero'\n",
    "myIter = iter(x)\n",
    "\n",
    "while True:\n",
    "    try:\n",
    "        item = next(myIter)\n",
    "        print(item)\n",
    "    except StopIteration:\n",
    "        break"
   ]
  },
  {
   "cell_type": "code",
   "execution_count": 10,
   "id": "a53f8141",
   "metadata": {},
   "outputs": [
    {
     "name": "stdout",
     "output_type": "stream",
     "text": [
      "2\n",
      "4\n",
      "6\n",
      "8\n",
      "5\n",
      "10\n"
     ]
    }
   ],
   "source": [
    "list = [2,4,6,8,5,10]\n",
    "\n",
    "for object in list:\n",
    "    print(object)"
   ]
  },
  {
   "cell_type": "code",
   "execution_count": null,
   "id": "7e69677c",
   "metadata": {},
   "outputs": [],
   "source": [
    "   "
   ]
  }
 ],
 "metadata": {
  "kernelspec": {
   "display_name": "Python 3 (ipykernel)",
   "language": "python",
   "name": "python3"
  },
  "language_info": {
   "codemirror_mode": {
    "name": "ipython",
    "version": 3
   },
   "file_extension": ".py",
   "mimetype": "text/x-python",
   "name": "python",
   "nbconvert_exporter": "python",
   "pygments_lexer": "ipython3",
   "version": "3.9.13"
  }
 },
 "nbformat": 4,
 "nbformat_minor": 5
}
