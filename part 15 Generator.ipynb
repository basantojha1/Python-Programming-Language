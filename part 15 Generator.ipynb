{
 "cells": [
  {
   "cell_type": "code",
   "execution_count": 6,
   "id": "ccdea551",
   "metadata": {},
   "outputs": [
    {
     "name": "stdout",
     "output_type": "stream",
     "text": [
      "This is first\n",
      "1\n",
      "This is second\n",
      "2\n",
      "This is third\n",
      "3\n"
     ]
    }
   ],
   "source": [
    "def myGen():\n",
    "    n = 1\n",
    "    print('This is first')\n",
    "    \n",
    "    yield n\n",
    "    n += 1\n",
    "    print('This is second')\n",
    "    \n",
    "    yield n\n",
    "    n += 1\n",
    "    print('This is third')\n",
    "    \n",
    "    yield n\n",
    "\n",
    "for i in myGen():\n",
    "    print(i)\n",
    "    \n",
    "    \n",
    "#a = myGen()\n",
    "#next(a)\n",
    "#next(a)"
   ]
  },
  {
   "cell_type": "code",
   "execution_count": 8,
   "id": "e3232355",
   "metadata": {},
   "outputs": [
    {
     "name": "stdout",
     "output_type": "stream",
     "text": [
      "first\n"
     ]
    },
    {
     "ename": "StopIteration",
     "evalue": "",
     "output_type": "error",
     "traceback": [
      "\u001b[1;31m---------------------------------------------------------------------------\u001b[0m",
      "\u001b[1;31mStopIteration\u001b[0m                             Traceback (most recent call last)",
      "\u001b[1;32m~\\AppData\\Local\\Temp\\ipykernel_12416\\2562325753.py\u001b[0m in \u001b[0;36m<module>\u001b[1;34m\u001b[0m\n\u001b[0;32m     12\u001b[0m \u001b[0mgen\u001b[0m \u001b[1;33m=\u001b[0m \u001b[0mmyGenerator\u001b[0m\u001b[1;33m(\u001b[0m\u001b[1;33m)\u001b[0m\u001b[1;33m\u001b[0m\u001b[1;33m\u001b[0m\u001b[0m\n\u001b[0;32m     13\u001b[0m \u001b[0mnext\u001b[0m\u001b[1;33m(\u001b[0m\u001b[0mgen\u001b[0m\u001b[1;33m)\u001b[0m\u001b[1;33m\u001b[0m\u001b[1;33m\u001b[0m\u001b[0m\n\u001b[1;32m---> 14\u001b[1;33m \u001b[0mnext\u001b[0m\u001b[1;33m(\u001b[0m\u001b[0mgen\u001b[0m\u001b[1;33m)\u001b[0m\u001b[1;33m\u001b[0m\u001b[1;33m\u001b[0m\u001b[0m\n\u001b[0m",
      "\u001b[1;31mStopIteration\u001b[0m: "
     ]
    }
   ],
   "source": [
    "def myGenerator():\n",
    "    print('first')\n",
    "    yield 10\n",
    "# Since we have returned form the generator we cannot move beyond first item    \n",
    "    return  \n",
    "\n",
    "    print('second')\n",
    "    yield 20\n",
    "    \n",
    "    print('third')\n",
    "    yield 30\n",
    "    \n",
    "gen = myGenerator()\n",
    "next(gen)\n",
    "next(gen) "
   ]
  },
  {
   "cell_type": "code",
   "execution_count": 12,
   "id": "5304e212",
   "metadata": {},
   "outputs": [
    {
     "name": "stdout",
     "output_type": "stream",
     "text": [
      "[4, 9, 36, 64, 256, 1156, 4]\n",
      "4\n",
      "9\n",
      "36\n",
      "64\n",
      "256\n",
      "1156\n",
      "4\n"
     ]
    }
   ],
   "source": [
    "list1 = [2,3,6,8,16,34,2]\n",
    "list2 = [x**2 for x in list1]\n",
    "\n",
    "generator = (x**2 for x in list1)\n",
    "\n",
    "print(list2)\n",
    "for i in generator:\n",
    "    print(i)"
   ]
  },
  {
   "cell_type": "code",
   "execution_count": 15,
   "id": "8e284cff",
   "metadata": {},
   "outputs": [
    {
     "name": "stdout",
     "output_type": "stream",
     "text": [
      "1\n",
      "1\n"
     ]
    }
   ],
   "source": [
    "def Pow():\n",
    "    n = 0\n",
    "    yield 2**n\n",
    "    \n",
    "x = Pow()\n",
    "print(next(x))\n",
    "\n",
    "for item in Pow():\n",
    "    print(item)"
   ]
  },
  {
   "cell_type": "code",
   "execution_count": 20,
   "id": "95fd5dc4",
   "metadata": {},
   "outputs": [
    {
     "name": "stdout",
     "output_type": "stream",
     "text": [
      "4895\n"
     ]
    }
   ],
   "source": [
    "def fibNum(n):\n",
    "    x,y = 0,1\n",
    "    for i in range(n):\n",
    "        z = x + y\n",
    "        x = y\n",
    "        y = z\n",
    "        yield x\n",
    "def square(n):\n",
    "    for num in n:\n",
    "        yield num**2\n",
    "        \n",
    "print(sum(square(fibNum(10))))"
   ]
  },
  {
   "cell_type": "code",
   "execution_count": null,
   "id": "5ee0ce10",
   "metadata": {},
   "outputs": [],
   "source": []
  }
 ],
 "metadata": {
  "kernelspec": {
   "display_name": "Python 3 (ipykernel)",
   "language": "python",
   "name": "python3"
  },
  "language_info": {
   "codemirror_mode": {
    "name": "ipython",
    "version": 3
   },
   "file_extension": ".py",
   "mimetype": "text/x-python",
   "name": "python",
   "nbconvert_exporter": "python",
   "pygments_lexer": "ipython3",
   "version": "3.9.13"
  }
 },
 "nbformat": 4,
 "nbformat_minor": 5
}
