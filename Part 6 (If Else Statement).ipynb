{
 "cells": [
  {
   "cell_type": "code",
   "execution_count": 3,
   "id": "7b15fcd5",
   "metadata": {},
   "outputs": [
    {
     "name": "stdout",
     "output_type": "stream",
     "text": [
      "10 Is Not Equal To 20\n"
     ]
    }
   ],
   "source": [
    "# If Else Statement\n",
    "\n",
    "x = 10\n",
    "y = 20\n",
    "if (x==y):\n",
    "    print(x, \"Is Equals To\", y)\n",
    "else:\n",
    "    print(x, \"Is Not Equal To\", y)"
   ]
  },
  {
   "cell_type": "code",
   "execution_count": 5,
   "id": "b9c561c0",
   "metadata": {},
   "outputs": [
    {
     "name": "stdout",
     "output_type": "stream",
     "text": [
      "Enter Total price of the Product: 2000\n",
      "Enter the product shipping Country Name: Nepal\n",
      "The shipping charge in nepal for the product is Rs.200.\n"
     ]
    }
   ],
   "source": [
    "totalAmount = int(input(\"Enter Total price of the Product: \"))\n",
    "country = input(\"Enter the product shipping Country Name: \")\n",
    "\n",
    "if country == \"Nepal\":\n",
    "    if totalAmount <=1000:\n",
    "        print(\"The shipping charge in Nepal for the product is Rs.100.\")\n",
    "    elif totalAmount >1000 and totalAmount<= 5000:\n",
    "        print(\"The shipping charge in nepal for the product is Rs.200.\")\n",
    "    else:\n",
    "        print(\"The shipping charge in nepal for the product is Rs.300.\")\n",
    "elif country == \"India\":\n",
    "    if totalAmount <=1000:\n",
    "        print(\"The shipping charge in Nepal for the product is Rs.1000.\")\n",
    "    elif totalAmount >1000 and totalAmount<= 5000:\n",
    "        print(\"The shipping charge in nepal for the product is Rs.2000.\")\n",
    "    else:\n",
    "        print(\"The shipping charge in nepal for the product is Rs.3000.\")\n",
    "else:\n",
    "    print(\"Sorry ! We are unable to ship in the respective country.\")\n",
    "        "
   ]
  },
  {
   "cell_type": "code",
   "execution_count": null,
   "id": "c4d45251",
   "metadata": {},
   "outputs": [],
   "source": [
    "# While Loop\n",
    "\n"
   ]
  }
 ],
 "metadata": {
  "kernelspec": {
   "display_name": "Python 3 (ipykernel)",
   "language": "python",
   "name": "python3"
  },
  "language_info": {
   "codemirror_mode": {
    "name": "ipython",
    "version": 3
   },
   "file_extension": ".py",
   "mimetype": "text/x-python",
   "name": "python",
   "nbconvert_exporter": "python",
   "pygments_lexer": "ipython3",
   "version": "3.9.13"
  }
 },
 "nbformat": 4,
 "nbformat_minor": 5
}
