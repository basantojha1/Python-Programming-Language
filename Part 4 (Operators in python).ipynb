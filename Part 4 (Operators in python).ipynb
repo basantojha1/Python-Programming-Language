{
 "cells": [
  {
   "cell_type": "code",
   "execution_count": 4,
   "id": "f87e6dfb",
   "metadata": {},
   "outputs": [
    {
     "name": "stdout",
     "output_type": "stream",
     "text": [
      "Apple and Mango are both fruit names.\n"
     ]
    }
   ],
   "source": [
    "# Format Methods\n",
    "\n",
    "print('{} and {} are both fruit names.'.format(\"Apple\",\"Mango\"))"
   ]
  },
  {
   "cell_type": "code",
   "execution_count": 6,
   "id": "d382bbbb",
   "metadata": {},
   "outputs": [
    {
     "name": "stdout",
     "output_type": "stream",
     "text": [
      "Mango and Apple are both fruit names.\n"
     ]
    }
   ],
   "source": [
    "# see the differene after indexing\n",
    "print('{1} and {0} are both fruit names.'.format(\"Apple\",\"Mango\"))"
   ]
  },
  {
   "cell_type": "code",
   "execution_count": 7,
   "id": "e29406ae",
   "metadata": {},
   "outputs": [],
   "source": [
    "# OPERATORS IN PYTHON\n",
    "# Arithematic Operator\n",
    "# Assignment Operator\n",
    "# Comparison Operator\n",
    "# Logical Operator\n",
    "# Identity Operator\n",
    "# Membership Operator\n",
    "#Bitwise  Operator"
   ]
  },
  {
   "cell_type": "code",
   "execution_count": null,
   "id": "3e491722",
   "metadata": {},
   "outputs": [],
   "source": []
  }
 ],
 "metadata": {
  "kernelspec": {
   "display_name": "Python 3 (ipykernel)",
   "language": "python",
   "name": "python3"
  },
  "language_info": {
   "codemirror_mode": {
    "name": "ipython",
    "version": 3
   },
   "file_extension": ".py",
   "mimetype": "text/x-python",
   "name": "python",
   "nbconvert_exporter": "python",
   "pygments_lexer": "ipython3",
   "version": "3.9.13"
  }
 },
 "nbformat": 4,
 "nbformat_minor": 5
}
