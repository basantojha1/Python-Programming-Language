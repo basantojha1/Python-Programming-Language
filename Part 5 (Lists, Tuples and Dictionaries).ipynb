{
 "cells": [
  {
   "cell_type": "code",
   "execution_count": 1,
   "id": "2768efae",
   "metadata": {},
   "outputs": [
    {
     "data": {
      "text/plain": [
       "['Apple', 2, 'Ball', 3, 'Cat', 4]"
      ]
     },
     "execution_count": 1,
     "metadata": {},
     "output_type": "execute_result"
    }
   ],
   "source": [
    "# List and its various functions\n",
    "\n",
    "List1 = [\"Apple\", 2, \"Ball\", 3, \"Cat\", 4]\n",
    "List1"
   ]
  },
  {
   "cell_type": "code",
   "execution_count": 2,
   "id": "70131d33",
   "metadata": {},
   "outputs": [],
   "source": [
    "List1.append(\"Dog\")"
   ]
  },
  {
   "cell_type": "code",
   "execution_count": 3,
   "id": "3595954f",
   "metadata": {},
   "outputs": [
    {
     "data": {
      "text/plain": [
       "['Apple', 2, 'Ball', 3, 'Cat', 4, 'Dog']"
      ]
     },
     "execution_count": 3,
     "metadata": {},
     "output_type": "execute_result"
    }
   ],
   "source": [
    "List1"
   ]
  },
  {
   "cell_type": "code",
   "execution_count": 4,
   "id": "892b7175",
   "metadata": {},
   "outputs": [],
   "source": [
    "List1.insert(0,\"Ant\")"
   ]
  },
  {
   "cell_type": "code",
   "execution_count": 5,
   "id": "73fb1bd3",
   "metadata": {},
   "outputs": [
    {
     "data": {
      "text/plain": [
       "['Ant', 'Apple', 2, 'Ball', 3, 'Cat', 4, 'Dog']"
      ]
     },
     "execution_count": 5,
     "metadata": {},
     "output_type": "execute_result"
    }
   ],
   "source": [
    "List1"
   ]
  },
  {
   "cell_type": "code",
   "execution_count": 6,
   "id": "82eba328",
   "metadata": {},
   "outputs": [
    {
     "data": {
      "text/plain": [
       "['Hello', 'World']"
      ]
     },
     "execution_count": 6,
     "metadata": {},
     "output_type": "execute_result"
    }
   ],
   "source": [
    "List2 = [\"Hello\", \"World\"]\n",
    "List2"
   ]
  },
  {
   "cell_type": "code",
   "execution_count": 7,
   "id": "5d8b85bf",
   "metadata": {},
   "outputs": [],
   "source": [
    "List1.extend(List2)"
   ]
  },
  {
   "cell_type": "code",
   "execution_count": 8,
   "id": "28ca8cd0",
   "metadata": {},
   "outputs": [
    {
     "data": {
      "text/plain": [
       "['Ant', 'Apple', 2, 'Ball', 3, 'Cat', 4, 'Dog', 'Hello', 'World']"
      ]
     },
     "execution_count": 8,
     "metadata": {},
     "output_type": "execute_result"
    }
   ],
   "source": [
    "List1"
   ]
  },
  {
   "cell_type": "code",
   "execution_count": 9,
   "id": "1e93adfc",
   "metadata": {},
   "outputs": [],
   "source": [
    "List1.remove(\"Ant\")"
   ]
  },
  {
   "cell_type": "code",
   "execution_count": 10,
   "id": "edf2ee79",
   "metadata": {},
   "outputs": [
    {
     "data": {
      "text/plain": [
       "['Apple', 2, 'Ball', 3, 'Cat', 4, 'Dog', 'Hello', 'World']"
      ]
     },
     "execution_count": 10,
     "metadata": {},
     "output_type": "execute_result"
    }
   ],
   "source": [
    "List1"
   ]
  },
  {
   "cell_type": "code",
   "execution_count": 11,
   "id": "663999ca",
   "metadata": {},
   "outputs": [],
   "source": [
    "List1.reverse()"
   ]
  },
  {
   "cell_type": "code",
   "execution_count": 12,
   "id": "7edaedff",
   "metadata": {},
   "outputs": [
    {
     "data": {
      "text/plain": [
       "['World', 'Hello', 'Dog', 4, 'Cat', 3, 'Ball', 2, 'Apple']"
      ]
     },
     "execution_count": 12,
     "metadata": {},
     "output_type": "execute_result"
    }
   ],
   "source": [
    "List1"
   ]
  },
  {
   "cell_type": "code",
   "execution_count": 14,
   "id": "fa64d208",
   "metadata": {},
   "outputs": [
    {
     "data": {
      "text/plain": [
       "(1, 2, 3, 4, 5, 6, 7)"
      ]
     },
     "execution_count": 14,
     "metadata": {},
     "output_type": "execute_result"
    }
   ],
   "source": [
    "# Tuples\n",
    "\n",
    "Tup1 = (1, 2, 3, 4, 5, 6, 7)\n",
    "Tup1"
   ]
  },
  {
   "cell_type": "code",
   "execution_count": 15,
   "id": "c9249ac6",
   "metadata": {},
   "outputs": [
    {
     "data": {
      "text/plain": [
       "2"
      ]
     },
     "execution_count": 15,
     "metadata": {},
     "output_type": "execute_result"
    }
   ],
   "source": [
    "Tup1.index(3)"
   ]
  },
  {
   "cell_type": "code",
   "execution_count": 16,
   "id": "97e15622",
   "metadata": {},
   "outputs": [
    {
     "data": {
      "text/plain": [
       "4"
      ]
     },
     "execution_count": 16,
     "metadata": {},
     "output_type": "execute_result"
    }
   ],
   "source": [
    "Tup1[3]"
   ]
  },
  {
   "cell_type": "code",
   "execution_count": 17,
   "id": "26bb3654",
   "metadata": {},
   "outputs": [],
   "source": [
    "Tup2 = (8, 9)"
   ]
  },
  {
   "cell_type": "code",
   "execution_count": 18,
   "id": "ca4c8ebf",
   "metadata": {},
   "outputs": [
    {
     "data": {
      "text/plain": [
       "(1, 2, 3, 4, 5, 6, 7, 8, 9)"
      ]
     },
     "execution_count": 18,
     "metadata": {},
     "output_type": "execute_result"
    }
   ],
   "source": [
    "Tup1 +=Tup2\n",
    "Tup1"
   ]
  },
  {
   "cell_type": "code",
   "execution_count": 19,
   "id": "c979d1e3",
   "metadata": {},
   "outputs": [
    {
     "name": "stdout",
     "output_type": "stream",
     "text": [
      "(1, 2, 3, 4, 5, 6, 7, 8, 9, 'addedValue')\n"
     ]
    }
   ],
   "source": [
    "# Changing touple to list and adding value\n",
    "\n",
    "x = list(Tup1)\n",
    "x.append(\"addedValue\")\n",
    "Tup1 = tuple(x)\n",
    "print(Tup1)"
   ]
  },
  {
   "cell_type": "code",
   "execution_count": 20,
   "id": "c48ac97c",
   "metadata": {},
   "outputs": [
    {
     "name": "stdout",
     "output_type": "stream",
     "text": [
      "1\n",
      "2\n",
      "3\n",
      "4\n",
      "5\n",
      "6\n",
      "7\n",
      "8\n",
      "9\n",
      "addedValue\n"
     ]
    }
   ],
   "source": [
    "for Tup in Tup1:\n",
    "    print(Tup)"
   ]
  },
  {
   "cell_type": "code",
   "execution_count": 21,
   "id": "0f75b9d0",
   "metadata": {},
   "outputs": [
    {
     "data": {
      "text/plain": [
       "{1: 'Apple', 2: 'Banana', 3: 'Kiwi', 4: 'Orange'}"
      ]
     },
     "execution_count": 21,
     "metadata": {},
     "output_type": "execute_result"
    }
   ],
   "source": [
    "# Dictionaries\n",
    "\n",
    "Dict1 = {1:\"Apple\", 2:\"Banana\", 3:\"Kiwi\", 4:\"Orange\"}\n",
    "Dict1"
   ]
  },
  {
   "cell_type": "code",
   "execution_count": 22,
   "id": "3e7a0d9f",
   "metadata": {},
   "outputs": [
    {
     "data": {
      "text/plain": [
       "'Kiwi'"
      ]
     },
     "execution_count": 22,
     "metadata": {},
     "output_type": "execute_result"
    }
   ],
   "source": [
    "Dict1.get(3)"
   ]
  },
  {
   "cell_type": "code",
   "execution_count": 23,
   "id": "9fac427e",
   "metadata": {},
   "outputs": [
    {
     "data": {
      "text/plain": [
       "'Banana'"
      ]
     },
     "execution_count": 23,
     "metadata": {},
     "output_type": "execute_result"
    }
   ],
   "source": [
    "Dict1.get(2)"
   ]
  },
  {
   "cell_type": "code",
   "execution_count": 24,
   "id": "481ed32f",
   "metadata": {},
   "outputs": [
    {
     "data": {
      "text/plain": [
       "dict_keys([1, 2, 3, 4])"
      ]
     },
     "execution_count": 24,
     "metadata": {},
     "output_type": "execute_result"
    }
   ],
   "source": [
    "Dict1.keys()"
   ]
  },
  {
   "cell_type": "code",
   "execution_count": 25,
   "id": "4b046305",
   "metadata": {},
   "outputs": [
    {
     "data": {
      "text/plain": [
       "'Apple'"
      ]
     },
     "execution_count": 25,
     "metadata": {},
     "output_type": "execute_result"
    }
   ],
   "source": [
    "Dict1.pop(1)"
   ]
  },
  {
   "cell_type": "code",
   "execution_count": 30,
   "id": "75aa22c4",
   "metadata": {},
   "outputs": [
    {
     "data": {
      "text/plain": [
       "{2: 'Banana', 3: 'Kiwi'}"
      ]
     },
     "execution_count": 30,
     "metadata": {},
     "output_type": "execute_result"
    }
   ],
   "source": [
    "Dict1"
   ]
  },
  {
   "cell_type": "code",
   "execution_count": 31,
   "id": "a1e3325e",
   "metadata": {},
   "outputs": [],
   "source": [
    "Dict1.update({6: \"Zebra\"})"
   ]
  },
  {
   "cell_type": "code",
   "execution_count": 32,
   "id": "e7272c10",
   "metadata": {},
   "outputs": [
    {
     "data": {
      "text/plain": [
       "{2: 'Banana', 3: 'Kiwi', 6: 'Zebra'}"
      ]
     },
     "execution_count": 32,
     "metadata": {},
     "output_type": "execute_result"
    }
   ],
   "source": [
    "Dict1"
   ]
  },
  {
   "cell_type": "code",
   "execution_count": 33,
   "id": "cd5d65aa",
   "metadata": {},
   "outputs": [
    {
     "name": "stdout",
     "output_type": "stream",
     "text": [
      "2\n",
      "3\n",
      "6\n"
     ]
    }
   ],
   "source": [
    "for Dict in Dict1:\n",
    "    print(Dict)"
   ]
  },
  {
   "cell_type": "code",
   "execution_count": 34,
   "id": "71ba27d7",
   "metadata": {},
   "outputs": [
    {
     "name": "stdout",
     "output_type": "stream",
     "text": [
      "Banana\n",
      "Kiwi\n",
      "Zebra\n"
     ]
    }
   ],
   "source": [
    "for Dict in Dict1:\n",
    "    print(Dict1[Dict])"
   ]
  },
  {
   "cell_type": "code",
   "execution_count": 35,
   "id": "a1a079ef",
   "metadata": {},
   "outputs": [
    {
     "name": "stdout",
     "output_type": "stream",
     "text": [
      "2 Banana\n",
      "3 Kiwi\n",
      "6 Zebra\n"
     ]
    }
   ],
   "source": [
    "for x,y in Dict1.items():\n",
    "    print(x,y)"
   ]
  },
  {
   "cell_type": "code",
   "execution_count": 36,
   "id": "89d188a0",
   "metadata": {},
   "outputs": [
    {
     "name": "stdout",
     "output_type": "stream",
     "text": [
      "{2: 'Banana', 3: 'Kiwi', 6: 'Zebra'}\n"
     ]
    }
   ],
   "source": [
    "mydict = Dict1.copy()\n",
    "print(mydict)"
   ]
  },
  {
   "cell_type": "code",
   "execution_count": null,
   "id": "b2f17aba",
   "metadata": {},
   "outputs": [],
   "source": []
  }
 ],
 "metadata": {
  "kernelspec": {
   "display_name": "Python 3 (ipykernel)",
   "language": "python",
   "name": "python3"
  },
  "language_info": {
   "codemirror_mode": {
    "name": "ipython",
    "version": 3
   },
   "file_extension": ".py",
   "mimetype": "text/x-python",
   "name": "python",
   "nbconvert_exporter": "python",
   "pygments_lexer": "ipython3",
   "version": "3.9.13"
  }
 },
 "nbformat": 4,
 "nbformat_minor": 5
}
