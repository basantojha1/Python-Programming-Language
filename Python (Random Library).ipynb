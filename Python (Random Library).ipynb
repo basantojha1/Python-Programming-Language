{
 "cells": [
  {
   "cell_type": "code",
   "execution_count": 6,
   "id": "899109ae",
   "metadata": {},
   "outputs": [
    {
     "name": "stdout",
     "output_type": "stream",
     "text": [
      "97\n",
      "Enter your guess: 1\n",
      "Your guess is Low.\n",
      "Enter your guess: 97\n",
      "You guessed it right.\n"
     ]
    }
   ],
   "source": [
    "# random library\n",
    "\n",
    "import random\n",
    "num = random.randint(1,100) #function to generate random integer\n",
    "print(num)\n",
    "guess = int(input(\"Enter your guess: \"))\n",
    "\n",
    "while num != guess:\n",
    "    if guess <num:\n",
    "        print('Your guess is Low.')\n",
    "        guess = int(input(\"Enter your guess: \"))\n",
    "    elif guess >num:\n",
    "        print('Your guess is High.')\n",
    "        guess = int(input(\"Enter your guess: \"))\n",
    "        break\n",
    "print(\"You guessed it right.\")\n",
    "    "
   ]
  },
  {
   "cell_type": "code",
   "execution_count": null,
   "id": "1e235af4",
   "metadata": {},
   "outputs": [],
   "source": []
  }
 ],
 "metadata": {
  "kernelspec": {
   "display_name": "Python 3 (ipykernel)",
   "language": "python",
   "name": "python3"
  },
  "language_info": {
   "codemirror_mode": {
    "name": "ipython",
    "version": 3
   },
   "file_extension": ".py",
   "mimetype": "text/x-python",
   "name": "python",
   "nbconvert_exporter": "python",
   "pygments_lexer": "ipython3",
   "version": "3.9.13"
  }
 },
 "nbformat": 4,
 "nbformat_minor": 5
}
